{
 "cells": [
  {
   "cell_type": "code",
   "execution_count": 2,
   "metadata": {},
   "outputs": [
    {
     "name": "stdout",
     "output_type": "stream",
     "text": [
      "Created `%t` as an alias for `%timeit`.\n",
      "Created `%%t` as an alias for `%%timeit`.\n"
     ]
    }
   ],
   "source": [
    "# Notebook settings\n",
    "# from tqdm.notebook import trange, tqdm\n",
    "%alias_magic t timeit\n",
    "# Settings and imports\n",
    "import os\n",
    "import sys\n",
    "import numpy as np\n",
    "import pandas as pd\n",
    "import matplotlib.pyplot as plt\n",
    "import seaborn as sns\n",
    "module_path = os.path.abspath(os.path.join('..'))\n",
    "if module_path not in sys.path:\n",
    "    sys.path.append(module_path)\n",
    "import project_example as pe\n",
    "\n",
    "# import implicit"
   ]
  },
  {
   "cell_type": "code",
   "execution_count": 3,
   "metadata": {},
   "outputs": [],
   "source": [
    "# Load datasets\n",
    "events = pe.load_data('active1000')\n",
    "users = pd.read_csv('data/users.csv')\n",
    "items = pd.read_csv('data/articles.csv')"
   ]
  },
  {
   "cell_type": "code",
   "execution_count": 4,
   "metadata": {},
   "outputs": [
    {
     "name": "stdout",
     "output_type": "stream",
     "text": [
      "Rating matrix shape: 1000 x 20344\n"
     ]
    }
   ],
   "source": [
    "# Initiate ratings matrix\n",
    "n_users = len(users)\n",
    "n_items = len(items)\n",
    "\n",
    "ratings = np.zeros((n_users, n_items))\n",
    "print(f'Rating matrix shape: {n_users} x {n_items}')"
   ]
  },
  {
   "cell_type": "code",
   "execution_count": 5,
   "metadata": {},
   "outputs": [],
   "source": [
    "df_second = events[~events['documentId'].isnull()]\n",
    "df_second = df_second.drop_duplicates(subset=['userId', 'documentId']).reset_index(drop=True)\n",
    "df_second = df_second.sort_values(by=['userId', 'time'])\n",
    "\n",
    "new_user_id = df_second['userId'].values[1:] != df_second['userId'].values[:-1]\n",
    "new_user_id = np.r_[True, new_user_id]\n",
    "\n",
    "df_second['uid'] = np.cumsum(new_user_id)\n",
    "item_ids = df_second['documentId'].unique().tolist()\n",
    "new_df = pd.DataFrame({'documentId': item_ids, 'tid': range(1, len(item_ids) + 1)})\n",
    "df_second = pd.merge(df_second, new_df, on='documentId', how='outer')\n",
    "df_ext = df_second[['uid', 'tid']]"
   ]
  },
  {
   "cell_type": "code",
   "execution_count": 6,
   "metadata": {},
   "outputs": [],
   "source": [
    "df_third = df_second['activeTime'].fillna(round(df_second['activeTime'].mean(), 0))"
   ]
  },
  {
   "cell_type": "code",
   "execution_count": 8,
   "metadata": {},
   "outputs": [],
   "source": [
    "df_second['activeTime'].fillna(0, inplace=True)"
   ]
  },
  {
   "cell_type": "code",
   "execution_count": 9,
   "metadata": {},
   "outputs": [
    {
     "data": {
      "text/plain": [
       "0          17.0\n",
       "1          80.0\n",
       "2          80.0\n",
       "3         110.0\n",
       "4          80.0\n",
       "          ...  \n",
       "679350     80.0\n",
       "679351     80.0\n",
       "679352    127.0\n",
       "679353     80.0\n",
       "679354     80.0\n",
       "Name: activeTime, Length: 679355, dtype: float64"
      ]
     },
     "execution_count": 9,
     "metadata": {},
     "output_type": "execute_result"
    }
   ],
   "source": [
    "df_third"
   ]
  },
  {
   "cell_type": "code",
   "execution_count": 10,
   "metadata": {},
   "outputs": [
    {
     "data": {
      "text/plain": [
       "uid    0\n",
       "tid    0\n",
       "dtype: int64"
      ]
     },
     "execution_count": 10,
     "metadata": {},
     "output_type": "execute_result"
    }
   ],
   "source": [
    "df_ext.isna().sum()"
   ]
  },
  {
   "cell_type": "code",
   "execution_count": 98,
   "metadata": {},
   "outputs": [
    {
     "data": {
      "text/plain": [
       "array([[ 17.,  17.,  17., ...,   0.,   0.,   0.],\n",
       "       [  0.,   0., 435., ...,   0.,   0.,   0.],\n",
       "       [  0.,   0.,   0., ...,   0.,   0.,   0.],\n",
       "       ...,\n",
       "       [  0.,   0.,   0., ...,  nan,   0.,   0.],\n",
       "       [  0.,   0.,  nan, ...,   0.,  nan,  nan],\n",
       "       [ 68.,   0.,  68., ...,   0.,   0.,   0.]])"
      ]
     },
     "execution_count": 98,
     "metadata": {},
     "output_type": "execute_result"
    }
   ],
   "source": [
    "counter = 0\n",
    "for row in df_ext.itertuples():\n",
    "    if ratings[row[1]-1, row[2]-1] > 0:\n",
    "        print('Overwriting!')\n",
    "        print(ratings[row[1]-1, row[2]-1])\n",
    "        print('with')\n",
    "        print(df_second[df_second['uid'] == row[1]]['activeTime'].values[0])\n",
    "    ratings[row[1]-1, row[2]-1] = df_second[df_second['uid'] == row[1]]['activeTime'].values[0]\n",
    "\n",
    "ratings"
   ]
  },
  {
   "cell_type": "code",
   "execution_count": 99,
   "metadata": {},
   "outputs": [
    {
     "data": {
      "text/plain": [
       "(1000, 20344)"
      ]
     },
     "execution_count": 99,
     "metadata": {},
     "output_type": "execute_result"
    }
   ],
   "source": [
    "ratings.shape"
   ]
  },
  {
   "cell_type": "code",
   "execution_count": null,
   "metadata": {},
   "outputs": [],
   "source": []
  }
 ],
 "metadata": {
  "interpreter": {
   "hash": "6368b83f7a2da79a789b9640984f8f43c0326341d0b9d6f99fed754db999a021"
  },
  "kernelspec": {
   "display_name": "Python 3.10.0 ('tdt4215-2022-yADDz_i8')",
   "language": "python",
   "name": "python3"
  },
  "language_info": {
   "codemirror_mode": {
    "name": "ipython",
    "version": 3
   },
   "file_extension": ".py",
   "mimetype": "text/x-python",
   "name": "python",
   "nbconvert_exporter": "python",
   "pygments_lexer": "ipython3",
   "version": "3.10.0"
  },
  "orig_nbformat": 4
 },
 "nbformat": 4,
 "nbformat_minor": 2
}
