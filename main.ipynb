{
 "cells": [
  {
   "cell_type": "markdown",
   "metadata": {},
   "source": [
    "# Running recommender models\n",
    "\n",
    "This notebook allows running individual recommender models in this project, as well as the hybrid recommender system.\n",
    "\n",
    "Run all cells to see how the system works."
   ]
  },
  {
   "cell_type": "code",
   "execution_count": 116,
   "metadata": {},
   "outputs": [
    {
     "name": "stdout",
     "output_type": "stream",
     "text": [
      "The autoreload extension is already loaded. To reload it, use:\n",
      "  %reload_ext autoreload\n"
     ]
    }
   ],
   "source": [
    "# Reload when changing modules\n",
    "%load_ext autoreload\n",
    "%autoreload 2"
   ]
  },
  {
   "cell_type": "code",
   "execution_count": 117,
   "metadata": {},
   "outputs": [],
   "source": [
    "# Import and enable importing modules\n",
    "import os\n",
    "import sys\n",
    "module_path = os.path.abspath(os.path.join('..'))\n",
    "if module_path not in sys.path:\n",
    "    sys.path.append(module_path)\n",
    "\n",
    "# Global and local PATH variables to work for different environments\n",
    "# Alternate this path to obtain the data in your local environment\n",
    "PATH = os.getcwd()\n",
    "DATA = '/data/'\n",
    "filepath = PATH + DATA\n",
    "\n",
    "# Allow wider print of pandas dataframe\n",
    "pd.set_option('display.max_colwidth', None)"
   ]
  },
  {
   "cell_type": "code",
   "execution_count": 118,
   "metadata": {},
   "outputs": [],
   "source": [
    "# Import modules and libraries\n",
    "import pandas as pd\n",
    "import numpy as np\n",
    "import json"
   ]
  },
  {
   "cell_type": "markdown",
   "metadata": {},
   "source": [
    "In this project the data has been preprocessed in different ways to improve the different methods. Three files was created form the original events dataset:\n",
    "\n",
    "* events.csv\n",
    "* articles.csv\n",
    "* users.csv\n",
    "\n",
    "An overview of these datasets is given below.\n",
    "\n",
    "NB! If these are unavailable, you might have to run the appropriate preprocessing scripts to get the models to work."
   ]
  },
  {
   "cell_type": "code",
   "execution_count": 123,
   "metadata": {},
   "outputs": [],
   "source": [
    "# Method for loading original dataset\n",
    "def load_active_data(path):\n",
    "    \"\"\"\n",
    "        Load events from files and convert to dataframe.\n",
    "    \"\"\"\n",
    "    map_lst=[]\n",
    "    for f in os.listdir(path):\n",
    "        file_name=os.path.join(path, f)\n",
    "        if os.path.isfile(file_name):\n",
    "            for line in open(file_name):\n",
    "                obj = json.loads(line.strip())\n",
    "                if obj is not None:\n",
    "                    map_lst.append(obj)\n",
    "    return pd.DataFrame(map_lst)\n",
    "\n",
    "# Load data\n",
    "try:\n",
    "    users_df = pd.read_csv(filepath + 'users.csv')\n",
    "    items_df = pd.read_csv(filepath + 'articles.csv')\n",
    "except FileNotFoundError:\n",
    "    print('Please make sure the data is in the correct path')\n",
    "    print('Current path:', filepath)\n",
    "    print('If you are missing the necessary data (users.csv and articles.csv), please visit the following link to download them:')\n",
    "    print('https://drive.google.com/drive/folders/1osf88CZsjEeatSWAjds0xZShTG4HZNwC?usp=sharing')\n",
    "    print('Please change the path to the data in your local environment')\n",
    "    print('Exiting...')\n",
    "    sys.exit()\n",
    "events = load_active_data(PATH + '/active1000/')"
   ]
  },
  {
   "cell_type": "code",
   "execution_count": 126,
   "metadata": {},
   "outputs": [],
   "source": [
    "# Import model pipelines\n",
    "from recommenders.collaborative_filtering import cf_pipeline\n",
    "from recommenders.content_based_articles import cb_articles_pipeline\n",
    "from recommenders.content_based_kmeans import cb_kmeans_pipeline"
   ]
  },
  {
   "cell_type": "code",
   "execution_count": 125,
   "metadata": {},
   "outputs": [],
   "source": [
    "# Seed to reproduce results\n",
    "np.random.seed(42)\n",
    "\n",
    "# Choose random user to recommend to\n",
    "user_id = users_df.sample()['user_id'].values[0]\n",
    "user_id\n",
    "\n",
    "# Select number of articles to recommend to user\n",
    "k = 10"
   ]
  },
  {
   "cell_type": "code",
   "execution_count": 122,
   "metadata": {},
   "outputs": [
    {
     "name": "stdout",
     "output_type": "stream",
     "text": [
      "Running collaborative filtering pipeline ...\n",
      "Done!\n"
     ]
    },
    {
     "data": {
      "text/html": [
       "<div>\n",
       "<style scoped>\n",
       "    .dataframe tbody tr th:only-of-type {\n",
       "        vertical-align: middle;\n",
       "    }\n",
       "\n",
       "    .dataframe tbody tr th {\n",
       "        vertical-align: top;\n",
       "    }\n",
       "\n",
       "    .dataframe thead th {\n",
       "        text-align: right;\n",
       "    }\n",
       "</style>\n",
       "<table border=\"1\" class=\"dataframe\">\n",
       "  <thead>\n",
       "    <tr style=\"text-align: right;\">\n",
       "      <th></th>\n",
       "      <th>title</th>\n",
       "      <th>documentId</th>\n",
       "    </tr>\n",
       "  </thead>\n",
       "  <tbody>\n",
       "    <tr>\n",
       "      <th>0</th>\n",
       "      <td>Mulig å bygge superbusstasjoner til en fjerdedel av prisen</td>\n",
       "      <td>cdfcf41324251f750be0db169cb5ae1b739a15bf</td>\n",
       "    </tr>\n",
       "    <tr>\n",
       "      <th>1</th>\n",
       "      <td>I morgen blir det kaffe og boller på stasjonen</td>\n",
       "      <td>b5805afe6f42ea5da09270c7184be7a7c4cd8c34</td>\n",
       "    </tr>\n",
       "    <tr>\n",
       "      <th>2</th>\n",
       "      <td>RBK-keeper aktuell for 1.-divisjonsklubb</td>\n",
       "      <td>e55e646ae3ba16dee0b2b721c03ba008ec0fd62d</td>\n",
       "    </tr>\n",
       "    <tr>\n",
       "      <th>3</th>\n",
       "      <td>Sju biler i trafikkulykke</td>\n",
       "      <td>e706c4c8ece6b57112deba9d160f21a5ee6719e4</td>\n",
       "    </tr>\n",
       "    <tr>\n",
       "      <th>4</th>\n",
       "      <td>Politianmelder trøndersk boligutbygger etter syv konkurser</td>\n",
       "      <td>ac728afb25512bfe85b58926a9c32659137f4fea</td>\n",
       "    </tr>\n",
       "    <tr>\n",
       "      <th>5</th>\n",
       "      <td>Bil fikk grillen smadret av Isklump på nesten 30 kilo</td>\n",
       "      <td>a4108a6448e235d895c62807f493d918a9b8125e</td>\n",
       "    </tr>\n",
       "    <tr>\n",
       "      <th>6</th>\n",
       "      <td>Nye Veier styrker staben</td>\n",
       "      <td>307ba9431026536f74cc929286af914f23e969da</td>\n",
       "    </tr>\n",
       "    <tr>\n",
       "      <th>7</th>\n",
       "      <td>Lastebil og personbil involvert i trafikkulykke i Meldal</td>\n",
       "      <td>e649420577596b19d15945c38921b47449520d9e</td>\n",
       "    </tr>\n",
       "    <tr>\n",
       "      <th>8</th>\n",
       "      <td>Bilfører fikk kniv i støtfanger på E6</td>\n",
       "      <td>967f174e48b18d7c7c346d7e9957858aa61dbb33</td>\n",
       "    </tr>\n",
       "    <tr>\n",
       "      <th>9</th>\n",
       "      <td>Håper på over 400 deltakere på isfiskefestival</td>\n",
       "      <td>2428f6b0b85f66aba29543310080c7e38fe7b928</td>\n",
       "    </tr>\n",
       "  </tbody>\n",
       "</table>\n",
       "</div>"
      ],
      "text/plain": [
       "                                                        title  \\\n",
       "0  Mulig å bygge superbusstasjoner til en fjerdedel av prisen   \n",
       "1              I morgen blir det kaffe og boller på stasjonen   \n",
       "2                    RBK-keeper aktuell for 1.-divisjonsklubb   \n",
       "3                                   Sju biler i trafikkulykke   \n",
       "4  Politianmelder trøndersk boligutbygger etter syv konkurser   \n",
       "5       Bil fikk grillen smadret av Isklump på nesten 30 kilo   \n",
       "6                                    Nye Veier styrker staben   \n",
       "7    Lastebil og personbil involvert i trafikkulykke i Meldal   \n",
       "8                       Bilfører fikk kniv i støtfanger på E6   \n",
       "9              Håper på over 400 deltakere på isfiskefestival   \n",
       "\n",
       "                                 documentId  \n",
       "0  cdfcf41324251f750be0db169cb5ae1b739a15bf  \n",
       "1  b5805afe6f42ea5da09270c7184be7a7c4cd8c34  \n",
       "2  e55e646ae3ba16dee0b2b721c03ba008ec0fd62d  \n",
       "3  e706c4c8ece6b57112deba9d160f21a5ee6719e4  \n",
       "4  ac728afb25512bfe85b58926a9c32659137f4fea  \n",
       "5  a4108a6448e235d895c62807f493d918a9b8125e  \n",
       "6  307ba9431026536f74cc929286af914f23e969da  \n",
       "7  e649420577596b19d15945c38921b47449520d9e  \n",
       "8  967f174e48b18d7c7c346d7e9957858aa61dbb33  \n",
       "9  2428f6b0b85f66aba29543310080c7e38fe7b928  "
      ]
     },
     "execution_count": 122,
     "metadata": {},
     "output_type": "execute_result"
    }
   ],
   "source": [
    "# Run collaborative filtering model\n",
    "cf_model, cf_rec, cf_test_mse, cf_train_mse = cf_pipeline(user_id, k, events)\n",
    "cf_rec\n"
   ]
  },
  {
   "cell_type": "code",
   "execution_count": 127,
   "metadata": {},
   "outputs": [
    {
     "name": "stdout",
     "output_type": "stream",
     "text": [
      "Running content based articles recommender...\n"
     ]
    }
   ],
   "source": [
    "# Run content-based article model\n",
    "cba_model, cba_rec, cba_eval = cb_articles_pipeline(user_id, k, users_df, items_df, events)\n",
    "cba_rec"
   ]
  },
  {
   "cell_type": "code",
   "execution_count": null,
   "metadata": {},
   "outputs": [
    {
     "name": "stdout",
     "output_type": "stream",
     "text": [
      "Running content-based K-means pipeline ...\n",
      "Content-based KMeans recommendation:\n",
      "Title | Document id\n",
      "Da han kom tilbake fra alpinbakken så bilen slik ut | aa6a5862cb2ae9fb8996f35a692192559b9083e1\n",
      "Slik slipper du å kjøpe DAB-radio | f1846d55be374246d0b9a76e0027936642ca3f1a\n",
      "Skulle til Hitra, havnet på Frosta | fb8b9ca2ddee2ea8dd0d6a2145008dcff48d08fc\n",
      "Hysterisk morsomme veiskilt i Trøndelag | 62134a1d8e747e1734f1573981ec161553e26d36\n",
      "- Budskapet er at du kan møte opp og få deg et ligg | d333a6b9c64b858e0a1280dfebda505e409db1dd\n",
      "John Kåre oppdaget DAB-smutthull i tv-kontakten | b6f08e0fe6567ed39d3b244f2afeceef43e0dbd3\n",
      "Bakeri i Trondheim anmeldt etter aksjon av politiet og Arbeidstilsynet | 21124879767ab94be2415310b1e04c380051b59f\n",
      "Idyllen ble brutt av en brysk kommuneansatt med markeringsbehov | 094e3ca8251f2a81626da7af88e25ef03ae7bd86\n",
      "Julian (13) filmet da raset gikk | fa3f4c9983712f837925cbfe9bd096d09143a2ac\n",
      "Hjelp oss å finne Midt-Norges dårligste veier | b9ad78ebb5acf15b97a2172aae104903e2a41afe\n",
      "Evaluation of Content-based K-means:\n",
      "Train score: 0.596375\n",
      "Test score: 0.5865\n"
     ]
    }
   ],
   "source": [
    "# Run content-based kmeans model\n",
    "user_row = users_df[users_df['user_id'] == user_id]\n",
    "cbk_model, cbk_rec, cbk_test_score, cbk_train_score = cb_kmeans_pipeline(user_row, k, users_df, items_df, events)"
   ]
  },
  {
   "cell_type": "markdown",
   "metadata": {},
   "source": [
    "## Running Hybrid model\n",
    "\n",
    "The hybrid model is an expert model where there is a voting mechanism to choose between which recommender to use. This voting mechanism uses the following rules:\n",
    "\n",
    "* If the user is a new user without previous history or data, use the content-based kmeans model to predict\n",
    "* If the user exists in the dataset with more than \n",
    "* If the user exists in the dataset with more"
   ]
  },
  {
   "cell_type": "code",
   "execution_count": null,
   "metadata": {},
   "outputs": [],
   "source": []
  },
  {
   "cell_type": "code",
   "execution_count": null,
   "metadata": {},
   "outputs": [],
   "source": []
  },
  {
   "cell_type": "code",
   "execution_count": null,
   "metadata": {},
   "outputs": [],
   "source": []
  }
 ],
 "metadata": {
  "interpreter": {
   "hash": "6368b83f7a2da79a789b9640984f8f43c0326341d0b9d6f99fed754db999a021"
  },
  "kernelspec": {
   "display_name": "Python 3.10.0 ('tdt4215-2022-yADDz_i8')",
   "language": "python",
   "name": "python3"
  },
  "language_info": {
   "codemirror_mode": {
    "name": "ipython",
    "version": 3
   },
   "file_extension": ".py",
   "mimetype": "text/x-python",
   "name": "python",
   "nbconvert_exporter": "python",
   "pygments_lexer": "ipython3",
   "version": "3.10.0"
  },
  "orig_nbformat": 4
 },
 "nbformat": 4,
 "nbformat_minor": 2
}
