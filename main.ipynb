{
 "cells": [
  {
   "cell_type": "markdown",
   "metadata": {},
   "source": [
    "# Running recommender models\n",
    "\n",
    "This notebook allows running individual recommender models in this project, as well as the hybrid recommender system.\n",
    "\n",
    "Run all cells to see how the system works."
   ]
  },
  {
   "cell_type": "code",
   "execution_count": 1,
   "metadata": {},
   "outputs": [],
   "source": [
    "# Reload when changing modules\n",
    "%load_ext autoreload\n",
    "%autoreload 2"
   ]
  },
  {
   "cell_type": "code",
   "execution_count": 2,
   "metadata": {},
   "outputs": [],
   "source": [
    "# Import and enable importing modules\n",
    "import os\n",
    "import sys\n",
    "module_path = os.path.abspath(os.path.join('..'))\n",
    "if module_path not in sys.path:\n",
    "    sys.path.append(module_path)\n",
    "\n",
    "# Global and local PATH variables to work for different environments\n",
    "# Alternate this path to obtain the data in your local environment\n",
    "PATH = os.getcwd()\n",
    "DATA = '/data/'\n",
    "filepath = PATH + DATA"
   ]
  },
  {
   "cell_type": "code",
   "execution_count": 3,
   "metadata": {},
   "outputs": [],
   "source": [
    "# Import modules and libraries\n",
    "import pandas as pd\n",
    "import numpy as np\n",
    "import json"
   ]
  },
  {
   "cell_type": "markdown",
   "metadata": {},
   "source": [
    "In this project the data has been preprocessed in different ways to improve the different methods. Three files was created form the original events dataset:\n",
    "\n",
    "* events.csv\n",
    "* articles.csv\n",
    "* users.csv\n",
    "\n",
    "An overview of these datasets is given below.\n",
    "\n",
    "NB! If these are unavailable, you might have to run the appropriate preprocessing scripts to get the models to work."
   ]
  },
  {
   "cell_type": "code",
   "execution_count": 4,
   "metadata": {},
   "outputs": [],
   "source": [
    "# Method for loading original dataset\n",
    "def load_active_data(path):\n",
    "    \"\"\"\n",
    "        Load events from files and convert to dataframe.\n",
    "    \"\"\"\n",
    "    map_lst=[]\n",
    "    for f in os.listdir(path):\n",
    "        file_name=os.path.join(path, f)\n",
    "        if os.path.isfile(file_name):\n",
    "            for line in open(file_name):\n",
    "                obj = json.loads(line.strip())\n",
    "                if obj is not None:\n",
    "                    map_lst.append(obj)\n",
    "    return pd.DataFrame(map_lst)\n",
    "\n",
    "# Load data\n",
    "users_df = pd.read_csv(filepath + 'users.csv')\n",
    "items_df = pd.read_csv(filepath + 'articles.csv')\n",
    "events = load_active_data(PATH + '/active1000/')"
   ]
  },
  {
   "cell_type": "code",
   "execution_count": 90,
   "metadata": {},
   "outputs": [],
   "source": [
    "# Import model pipelines\n",
    "from recommenders.collaborative_filtering import cf_pipeline\n",
    "from recommenders.content_based_articles import cb_articles_pipeline\n",
    "from recommenders.content_based_kmeans import cb_kmeans_pipeline"
   ]
  },
  {
   "cell_type": "code",
   "execution_count": 6,
   "metadata": {},
   "outputs": [],
   "source": [
    "# Seed to reproduce results\n",
    "np.random.seed(42)\n",
    "\n",
    "# Choose random user to recommend to\n",
    "user_id = users_df.sample()['user_id'].values[0]\n",
    "user_id\n",
    "\n",
    "# Select number of articles to recommend to user\n",
    "k = 10"
   ]
  },
  {
   "cell_type": "code",
   "execution_count": 37,
   "metadata": {},
   "outputs": [
    {
     "name": "stdout",
     "output_type": "stream",
     "text": [
      "Running collaborative filtering pipeline ...\n",
      "Predictions from collaborative filtering:\n",
      "Title | Document id\n",
      "Iiiiiiiiiskaldt nyttårsbad | 2a00c43cf84f7c433431027845505a0fdc77a55d\n",
      "Test av 16 «hjemmebakte» knekkebrød | 4367f42833890ae1e7b5fe4794e34989385e5c3b\n",
      "Si sannheten: Dette handler ikke om gamle reiseregninger! | e834b3195717583b48b43207a7f775fd7e891f1d\n",
      "Sliter du med elbilen i kulda? Her er ti tips. | 7784fe5dc3ebfbdd0ccab8cc0e424afa32df287f\n",
      "Hjelp! Hvilken bil skal jeg velge? | 91f01709d1490371ed695032e5b96b501b0d3392\n",
      "RBK-keeper aktuell for 1.-divisjonsklubb | e55e646ae3ba16dee0b2b721c03ba008ec0fd62d\n",
      "Pallen glapp for nordmennene da Kraft vant igjen | 64e1972ab204fb83c41bd82794621084ce3747ba\n",
      "- Det blir mye promp i år | ee79eb96a0f25ce70837e4aef3de242c60062839\n",
      "Bil fikk grillen smadret av Isklump på nesten 30 kilo | a4108a6448e235d895c62807f493d918a9b8125e\n",
      "Tidligere toppscorer ut mot kvaliteten i Eliteserien: – Jeg klarer ikke å se en spiller som skal score mange mål | 505c6ab9e135314d3faa58747060b74977af3a72\n",
      "Evaluation of collaborative filtering model: \n",
      "Train mse: [0.009265955940186237, 0.00749372185112451, 0.007196486905085727, 0.007116233314583638, 0.007073906226544666, 0.007058670661577431, 0.0070505495293684715]\n",
      "Test mse: [0.009265897881257925, 0.007857125119292412, 0.007575416658086895, 0.007494287586998207, 0.007451797521074414, 0.007436156204404057, 0.0074279231106624734]\n"
     ]
    }
   ],
   "source": [
    "# Run collaborative filtering model\n",
    "cf_rec, cf_test_mse = cf_pipeline(user_id, k, events)\n"
   ]
  },
  {
   "cell_type": "code",
   "execution_count": 66,
   "metadata": {},
   "outputs": [
    {
     "name": "stdout",
     "output_type": "stream",
     "text": [
      "Running content based articles recommender...\n",
      "Content based articles recommendation:\n",
      "Title | Document id\n",
      "- Trondheim som by kommer veldig godt ut av det | 282a2341f172ce655143446a1d9175d0cb950e4e\n",
      "- Britannia skal ikke bli noe Rema-hotell | a3ddb6e8602543b89d28cce185cdc51bcc8e6b6b\n",
      "Slik vil de endre Trondheim | e6304c6d56145afe17d11d69ef300121443c210b\n",
      "Eldre føler seg utrygge i sykehjem | fee2c74bad36aacda7eeb6e6d7c0c5a08d670c9d\n",
      "Trondheim i 1908 | 50cdfe236af2680f8cb4284c5d6a917ed6b7fb63\n",
      "Åpenhjertig Northug om triumfene og nedturene: - Jeg var ikke sulten nok og rotet bort et gull | 98c45f91400519953369d9e67a743d36195bfc40\n",
      "Åpenhjertig Northug om triumfene og nedturene: - Jeg var ikke sulten nok og rotet bort et gull | 459ae7920cecb0d957af9e9c743907dd55122d57\n",
      "En kopp kaffe, to knekkebrød og en flaske urin | dcbf6920ea2657c3361b513f27412c750ba93ea7\n",
      "- Det var dette eller ingenting for oss | 47da3ec4aadc858c7209a6f88d1ad8e62311fdc3\n",
      "- Det var dette eller ingenting for oss | 5e3619f3d7f08180a4e4054c55398bb2e6b988e9\n",
      "Content based articles recommender evaluation:\n",
      "0.0834\n"
     ]
    }
   ],
   "source": [
    "# Run content-based article model\n",
    "cba_rec, cba_eval = cb_articles_pipeline(user_id, k, users_df, items_df, events)"
   ]
  },
  {
   "cell_type": "code",
   "execution_count": 91,
   "metadata": {},
   "outputs": [
    {
     "name": "stdout",
     "output_type": "stream",
     "text": [
      "Running content-based K-means pipeline ...\n",
      "Content-based KMeans recommendation:\n",
      "Title | Document id\n",
      "Da han kom tilbake fra alpinbakken så bilen slik ut | aa6a5862cb2ae9fb8996f35a692192559b9083e1\n",
      "Slik slipper du å kjøpe DAB-radio | f1846d55be374246d0b9a76e0027936642ca3f1a\n",
      "Skulle til Hitra, havnet på Frosta | fb8b9ca2ddee2ea8dd0d6a2145008dcff48d08fc\n",
      "Hysterisk morsomme veiskilt i Trøndelag | 62134a1d8e747e1734f1573981ec161553e26d36\n",
      "- Budskapet er at du kan møte opp og få deg et ligg | d333a6b9c64b858e0a1280dfebda505e409db1dd\n",
      "John Kåre oppdaget DAB-smutthull i tv-kontakten | b6f08e0fe6567ed39d3b244f2afeceef43e0dbd3\n",
      "Bakeri i Trondheim anmeldt etter aksjon av politiet og Arbeidstilsynet | 21124879767ab94be2415310b1e04c380051b59f\n",
      "Idyllen ble brutt av en brysk kommuneansatt med markeringsbehov | 094e3ca8251f2a81626da7af88e25ef03ae7bd86\n",
      "Julian (13) filmet da raset gikk | fa3f4c9983712f837925cbfe9bd096d09143a2ac\n",
      "Hjelp oss å finne Midt-Norges dårligste veier | b9ad78ebb5acf15b97a2172aae104903e2a41afe\n",
      "Evaluation of Content-based K-means:\n",
      "Train score: 0.596375\n",
      "Test score: 0.5865\n"
     ]
    }
   ],
   "source": [
    "# Run content-based kmeans model\n",
    "user_row = users_df[users_df['user_id'] == user_id]\n",
    "cbk_rec, cbk_test_mse = cb_kmeans_pipeline(user_row, k, users_df, items_df, events)"
   ]
  },
  {
   "cell_type": "code",
   "execution_count": null,
   "metadata": {},
   "outputs": [],
   "source": []
  }
 ],
 "metadata": {
  "interpreter": {
   "hash": "6368b83f7a2da79a789b9640984f8f43c0326341d0b9d6f99fed754db999a021"
  },
  "kernelspec": {
   "display_name": "Python 3.10.0 ('tdt4215-2022-yADDz_i8')",
   "language": "python",
   "name": "python3"
  },
  "language_info": {
   "codemirror_mode": {
    "name": "ipython",
    "version": 3
   },
   "file_extension": ".py",
   "mimetype": "text/x-python",
   "name": "python",
   "nbconvert_exporter": "python",
   "pygments_lexer": "ipython3",
   "version": "3.10.0"
  },
  "orig_nbformat": 4
 },
 "nbformat": 4,
 "nbformat_minor": 2
}
