{
 "cells": [
  {
   "cell_type": "markdown",
   "metadata": {},
   "source": [
    "# Exploratory Data Analysis"
   ]
  },
  {
   "cell_type": "markdown",
   "metadata": {},
   "source": [
    "This notebook explores the complete dataset of the project in TDT4215"
   ]
  },
  {
   "cell_type": "code",
   "execution_count": 93,
   "metadata": {},
   "outputs": [
    {
     "name": "stdout",
     "output_type": "stream",
     "text": [
      "Created `%t` as an alias for `%timeit`.\n",
      "Created `%%t` as an alias for `%%timeit`.\n"
     ]
    }
   ],
   "source": [
    "# Notebook settings\n",
    "from tqdm.notebook import trange, tqdm\n",
    "%alias_magic t timeit\n",
    "# Settings and imports\n",
    "import os\n",
    "import sys\n",
    "import numpy as np\n",
    "import pandas as pd\n",
    "import matplotlib.pyplot as plt\n",
    "import seaborn as sns\n",
    "module_path = os.path.abspath(os.path.join('..'))\n",
    "if module_path not in sys.path:\n",
    "    sys.path.append(module_path)\n",
    "import utils\n",
    "\n",
    "import implicit"
   ]
  },
  {
   "cell_type": "markdown",
   "metadata": {},
   "source": [
    "## Load the dataset\n",
    "\n",
    "This loads the complete dataset with all fields. At the moment the `all_data.csv` is missing some values (unknown why) so the files are merged to restore categories and publishTime (uncertain whether other data has been lost)."
   ]
  },
  {
   "cell_type": "code",
   "execution_count": 2,
   "metadata": {},
   "outputs": [],
   "source": [
    "# Load data\n",
    "df = utils.load_csv(module_path + '/data/all_data.csv')"
   ]
  },
  {
   "cell_type": "code",
   "execution_count": 3,
   "metadata": {},
   "outputs": [],
   "source": [
    "from utils import load_events\n",
    "\n",
    "events = load_events(module_path + '/active1000')"
   ]
  },
  {
   "cell_type": "code",
   "execution_count": 4,
   "metadata": {},
   "outputs": [],
   "source": [
    "# Reconstruct df with category data (and other missing data)\n",
    "df_merged = pd.merge(left=df, right=events, on='eventId', how='left', suffixes=[None, '_events'])\n",
    "\n",
    "# Cleanup after merge to original fields\n",
    "df_full = df_merged.drop(columns=['category', 'publishTime'], axis=1)\n",
    "df_full.rename(columns={'category_events': 'category', 'publishtime': 'publishTime'}, inplace=True)\n",
    "df_full.drop(df_full.filter(regex='_events$').columns.tolist(), axis=1, inplace=True)"
   ]
  },
  {
   "cell_type": "markdown",
   "metadata": {},
   "source": [
    "Overview of dataset:"
   ]
  },
  {
   "cell_type": "code",
   "execution_count": 5,
   "metadata": {},
   "outputs": [
    {
     "data": {
      "text/html": [
       "<div>\n",
       "<style scoped>\n",
       "    .dataframe tbody tr th:only-of-type {\n",
       "        vertical-align: middle;\n",
       "    }\n",
       "\n",
       "    .dataframe tbody tr th {\n",
       "        vertical-align: top;\n",
       "    }\n",
       "\n",
       "    .dataframe thead th {\n",
       "        text-align: right;\n",
       "    }\n",
       "</style>\n",
       "<table border=\"1\" class=\"dataframe\">\n",
       "  <thead>\n",
       "    <tr style=\"text-align: right;\">\n",
       "      <th></th>\n",
       "      <th>eventId</th>\n",
       "      <th>activeTime</th>\n",
       "      <th>os</th>\n",
       "      <th>deviceType</th>\n",
       "      <th>userId</th>\n",
       "      <th>city</th>\n",
       "      <th>country</th>\n",
       "      <th>region</th>\n",
       "      <th>time</th>\n",
       "      <th>url</th>\n",
       "      <th>title</th>\n",
       "      <th>keywords</th>\n",
       "      <th>author</th>\n",
       "      <th>documentId</th>\n",
       "      <th>category</th>\n",
       "      <th>publishTime</th>\n",
       "    </tr>\n",
       "  </thead>\n",
       "  <tbody>\n",
       "    <tr>\n",
       "      <th>633723</th>\n",
       "      <td>71</td>\n",
       "      <td>2.0</td>\n",
       "      <td>iPhone OS</td>\n",
       "      <td>Mobile</td>\n",
       "      <td>cx:3t62xjqi1sj4mihiew9dwtkwz:2p6efggeo633t</td>\n",
       "      <td>trondheim</td>\n",
       "      <td>no</td>\n",
       "      <td>sor-trondelag</td>\n",
       "      <td>1485980571</td>\n",
       "      <td>http://adressa.no</td>\n",
       "      <td>NaN</td>\n",
       "      <td>NaN</td>\n",
       "      <td>NaN</td>\n",
       "      <td>NaN</td>\n",
       "      <td>None</td>\n",
       "      <td>None</td>\n",
       "    </tr>\n",
       "    <tr>\n",
       "      <th>949469</th>\n",
       "      <td>1586</td>\n",
       "      <td>NaN</td>\n",
       "      <td>iPhone OS</td>\n",
       "      <td>Mobile</td>\n",
       "      <td>cx:3dfh8zrlrd8tfbo5mnaesay1w:1r8zj7n5ld6ew</td>\n",
       "      <td>trondheim</td>\n",
       "      <td>no</td>\n",
       "      <td>sor-trondelag</td>\n",
       "      <td>1487019367</td>\n",
       "      <td>http://adressa.no</td>\n",
       "      <td>NaN</td>\n",
       "      <td>NaN</td>\n",
       "      <td>NaN</td>\n",
       "      <td>NaN</td>\n",
       "      <td>None</td>\n",
       "      <td>None</td>\n",
       "    </tr>\n",
       "    <tr>\n",
       "      <th>1168146</th>\n",
       "      <td>2047</td>\n",
       "      <td>NaN</td>\n",
       "      <td>Windows</td>\n",
       "      <td>Desktop</td>\n",
       "      <td>cx:2vwew3jn5z7x32gcvpe0a2k31r:3em6s8zfmi2gt</td>\n",
       "      <td>oslo</td>\n",
       "      <td>no</td>\n",
       "      <td>oslo</td>\n",
       "      <td>1487700518</td>\n",
       "      <td>http://adressa.no</td>\n",
       "      <td>NaN</td>\n",
       "      <td>NaN</td>\n",
       "      <td>NaN</td>\n",
       "      <td>NaN</td>\n",
       "      <td>None</td>\n",
       "      <td>None</td>\n",
       "    </tr>\n",
       "    <tr>\n",
       "      <th>857329</th>\n",
       "      <td>2306</td>\n",
       "      <td>NaN</td>\n",
       "      <td>iPhone OS</td>\n",
       "      <td>Tablet</td>\n",
       "      <td>cx:i5twuir0akye0wqf:15fn9728tiosp</td>\n",
       "      <td>surnadal</td>\n",
       "      <td>no</td>\n",
       "      <td>more og romsdal</td>\n",
       "      <td>1486678698</td>\n",
       "      <td>http://adressa.no/nyheter/innenriks/2017/02/09...</td>\n",
       "      <td>- Norsk nasjonalisme er en positiv kraft</td>\n",
       "      <td>Politikk,Ola Borten Moe,Marit Arnstad,Senterpa...</td>\n",
       "      <td>['harry tiller', 'roy tommy bråten']</td>\n",
       "      <td>b9e03d56b32b8c60f5fe0df96a05b6b7bf0766b6</td>\n",
       "      <td>nyheter|innenriks</td>\n",
       "      <td>2017-02-09T20:56:12.000Z</td>\n",
       "    </tr>\n",
       "    <tr>\n",
       "      <th>255129</th>\n",
       "      <td>2647</td>\n",
       "      <td>99.0</td>\n",
       "      <td>iPhone OS</td>\n",
       "      <td>Mobile</td>\n",
       "      <td>cx:iaxm8oa0wp9dglfl:3e04urhoti30m</td>\n",
       "      <td>melhus</td>\n",
       "      <td>no</td>\n",
       "      <td>sor-trondelag</td>\n",
       "      <td>1484839049</td>\n",
       "      <td>http://adressa.no/nyheter/nordtrondelag/2017/0...</td>\n",
       "      <td>NaN</td>\n",
       "      <td>NaN</td>\n",
       "      <td>NaN</td>\n",
       "      <td>NaN</td>\n",
       "      <td>None</td>\n",
       "      <td>None</td>\n",
       "    </tr>\n",
       "  </tbody>\n",
       "</table>\n",
       "</div>"
      ],
      "text/plain": [
       "         eventId  activeTime         os deviceType  \\\n",
       "633723        71         2.0  iPhone OS     Mobile   \n",
       "949469      1586         NaN  iPhone OS     Mobile   \n",
       "1168146     2047         NaN    Windows    Desktop   \n",
       "857329      2306         NaN  iPhone OS     Tablet   \n",
       "255129      2647        99.0  iPhone OS     Mobile   \n",
       "\n",
       "                                              userId       city country  \\\n",
       "633723    cx:3t62xjqi1sj4mihiew9dwtkwz:2p6efggeo633t  trondheim      no   \n",
       "949469    cx:3dfh8zrlrd8tfbo5mnaesay1w:1r8zj7n5ld6ew  trondheim      no   \n",
       "1168146  cx:2vwew3jn5z7x32gcvpe0a2k31r:3em6s8zfmi2gt       oslo      no   \n",
       "857329             cx:i5twuir0akye0wqf:15fn9728tiosp   surnadal      no   \n",
       "255129             cx:iaxm8oa0wp9dglfl:3e04urhoti30m     melhus      no   \n",
       "\n",
       "                  region        time  \\\n",
       "633723     sor-trondelag  1485980571   \n",
       "949469     sor-trondelag  1487019367   \n",
       "1168146             oslo  1487700518   \n",
       "857329   more og romsdal  1486678698   \n",
       "255129     sor-trondelag  1484839049   \n",
       "\n",
       "                                                       url  \\\n",
       "633723                                   http://adressa.no   \n",
       "949469                                   http://adressa.no   \n",
       "1168146                                  http://adressa.no   \n",
       "857329   http://adressa.no/nyheter/innenriks/2017/02/09...   \n",
       "255129   http://adressa.no/nyheter/nordtrondelag/2017/0...   \n",
       "\n",
       "                                            title  \\\n",
       "633723                                        NaN   \n",
       "949469                                        NaN   \n",
       "1168146                                       NaN   \n",
       "857329   - Norsk nasjonalisme er en positiv kraft   \n",
       "255129                                        NaN   \n",
       "\n",
       "                                                  keywords  \\\n",
       "633723                                                 NaN   \n",
       "949469                                                 NaN   \n",
       "1168146                                                NaN   \n",
       "857329   Politikk,Ola Borten Moe,Marit Arnstad,Senterpa...   \n",
       "255129                                                 NaN   \n",
       "\n",
       "                                       author  \\\n",
       "633723                                    NaN   \n",
       "949469                                    NaN   \n",
       "1168146                                   NaN   \n",
       "857329   ['harry tiller', 'roy tommy bråten']   \n",
       "255129                                    NaN   \n",
       "\n",
       "                                       documentId           category  \\\n",
       "633723                                        NaN               None   \n",
       "949469                                        NaN               None   \n",
       "1168146                                       NaN               None   \n",
       "857329   b9e03d56b32b8c60f5fe0df96a05b6b7bf0766b6  nyheter|innenriks   \n",
       "255129                                        NaN               None   \n",
       "\n",
       "                      publishTime  \n",
       "633723                       None  \n",
       "949469                       None  \n",
       "1168146                      None  \n",
       "857329   2017-02-09T20:56:12.000Z  \n",
       "255129                       None  "
      ]
     },
     "execution_count": 5,
     "metadata": {},
     "output_type": "execute_result"
    }
   ],
   "source": [
    "df_full.sort_values(by='eventId').head()"
   ]
  },
  {
   "cell_type": "markdown",
   "metadata": {},
   "source": [
    "### Attributes\n",
    "\n",
    "There is a total of 16 attributes for each event. Their description:\n",
    "\n",
    "| Attribute   | Type   | Description                                                                                                                                                                                                                                           |\n",
    "|-------------|--------|-------------------------------------------------------------------------------------------------------------------------------------------------------------------------------------------------------------------------------------------------------|\n",
    "| eventId     | int    | The identifier used to differentiate distinct events from the same user.                                                                                                                                                                              |\n",
    "| activeTime  | int    | The active time on a page in seconds, if known.                                                                                                                                                                                                       |\n",
    "| os          | string | Operating system that the user used when log in.                                                                                                                                                                                                      |\n",
    "| deviceType  | string | The type of device.                                                                                                                                                                                                                                   |\n",
    "| userId      | string | The cross-site user identifier which can be used to differentiate device/browsers, or identify subscription users by the user id.                                                                                                                     |\n",
    "| category    | string | The category of the news article.                                                                                                                                                                                                                     |\n",
    "| city        | string | The city name inferred from the IP address.                                                                                                                                                                                                           |\n",
    "| country     | string | The country code inferred from the user's IP address.                                                                                                                                                                                                 |\n",
    "| region      | string | The region inferred from the user's IP address.                                                                                                                                                                                                       |\n",
    "| time        | int    | The time of the event, measured in Unix time.                                                                                                                                                                                                         |\n",
    "| url         | string | Canonical URL as calculated based on incoming events and the fetched page content.                                                                                                                                                                    |\n",
    "| documentId  | string | The document id. This will be the same for different URLs that are considered equivalent according to Cxense’s normalization algorithm. E.g., http://www.example.com/, http://www.example.com and http://example.com will all have the same id value. |\n",
    "| title       | string | The title of the article                                                                                                                                                                                                                              |\n",
    "| keywords    | list   | The named entities of the article, including their types, counts and weights.                                                                                                                                                                         |\n",
    "| author      | string | The author of the article.                                                                                                                                                                                                                            |\n",
    "| publishTime | string | The publish time of the article.                                                                                                                                                                                                                      |"
   ]
  },
  {
   "cell_type": "markdown",
   "metadata": {},
   "source": [
    "Example of event entry:"
   ]
  },
  {
   "cell_type": "code",
   "execution_count": 6,
   "metadata": {},
   "outputs": [
    {
     "data": {
      "text/html": [
       "<div>\n",
       "<style scoped>\n",
       "    .dataframe tbody tr th:only-of-type {\n",
       "        vertical-align: middle;\n",
       "    }\n",
       "\n",
       "    .dataframe tbody tr th {\n",
       "        vertical-align: top;\n",
       "    }\n",
       "\n",
       "    .dataframe thead th {\n",
       "        text-align: right;\n",
       "    }\n",
       "</style>\n",
       "<table border=\"1\" class=\"dataframe\">\n",
       "  <thead>\n",
       "    <tr style=\"text-align: right;\">\n",
       "      <th></th>\n",
       "      <th>eventId</th>\n",
       "      <th>activeTime</th>\n",
       "      <th>os</th>\n",
       "      <th>deviceType</th>\n",
       "      <th>userId</th>\n",
       "      <th>city</th>\n",
       "      <th>country</th>\n",
       "      <th>region</th>\n",
       "      <th>time</th>\n",
       "      <th>url</th>\n",
       "      <th>title</th>\n",
       "      <th>keywords</th>\n",
       "      <th>author</th>\n",
       "      <th>documentId</th>\n",
       "      <th>category</th>\n",
       "      <th>publishTime</th>\n",
       "    </tr>\n",
       "  </thead>\n",
       "  <tbody>\n",
       "    <tr>\n",
       "      <th>204</th>\n",
       "      <td>1522705375</td>\n",
       "      <td>77.0</td>\n",
       "      <td>Windows</td>\n",
       "      <td>Desktop</td>\n",
       "      <td>cx:25keeu1fyal75150chjpjhsgbb:1hkvdvyhju9nl</td>\n",
       "      <td>hamarvik</td>\n",
       "      <td>no</td>\n",
       "      <td>sor-trondelag</td>\n",
       "      <td>1483226246</td>\n",
       "      <td>http://adressa.no/nyheter/sortrondelag/2016/12...</td>\n",
       "      <td>Hurtigruta snudde på Folda</td>\n",
       "      <td>utenriks,innenriks,trondheim,E6,midtbyen,bybra...</td>\n",
       "      <td>harry tiller</td>\n",
       "      <td>1d6279f9e08156802519de2929346fd57e974ff1</td>\n",
       "      <td>nyheter|sortrondelag</td>\n",
       "      <td>2016-12-31T12:31:47.000Z</td>\n",
       "    </tr>\n",
       "  </tbody>\n",
       "</table>\n",
       "</div>"
      ],
      "text/plain": [
       "        eventId  activeTime       os deviceType  \\\n",
       "204  1522705375        77.0  Windows    Desktop   \n",
       "\n",
       "                                          userId      city country  \\\n",
       "204  cx:25keeu1fyal75150chjpjhsgbb:1hkvdvyhju9nl  hamarvik      no   \n",
       "\n",
       "            region        time  \\\n",
       "204  sor-trondelag  1483226246   \n",
       "\n",
       "                                                   url  \\\n",
       "204  http://adressa.no/nyheter/sortrondelag/2016/12...   \n",
       "\n",
       "                          title  \\\n",
       "204  Hurtigruta snudde på Folda   \n",
       "\n",
       "                                              keywords        author  \\\n",
       "204  utenriks,innenriks,trondheim,E6,midtbyen,bybra...  harry tiller   \n",
       "\n",
       "                                   documentId              category  \\\n",
       "204  1d6279f9e08156802519de2929346fd57e974ff1  nyheter|sortrondelag   \n",
       "\n",
       "                  publishTime  \n",
       "204  2016-12-31T12:31:47.000Z  "
      ]
     },
     "execution_count": 6,
     "metadata": {},
     "output_type": "execute_result"
    }
   ],
   "source": [
    "df_full[~df_full.isnull().any(axis=1)].iloc[[5]]"
   ]
  },
  {
   "cell_type": "markdown",
   "metadata": {},
   "source": [
    "## Analysis\n",
    "\n",
    "This section analyses the complete dataset. The dataframe `df` contains all data we want to examine. A short statistical overview of the dataset:"
   ]
  },
  {
   "cell_type": "code",
   "execution_count": 7,
   "metadata": {},
   "outputs": [
    {
     "name": "stdout",
     "output_type": "stream",
     "text": [
      "Total number of events (front page incl.): 2207608\n",
      "Total number of events (without front page): 788931\n",
      "Total number of documents: 20344\n",
      "Sparsity: 3.878%\n",
      "Total number of events (drop duplicates): 679355\n",
      "Sparsity (drop duplicates): 3.339%\n",
      "\n",
      "Describe by user:\n",
      "            counts\n",
      "count  1000.000000\n",
      "mean    679.355000\n",
      "std     333.619737\n",
      "min      59.000000\n",
      "25%     506.750000\n",
      "50%     639.500000\n",
      "75%     797.500000\n",
      "max    7958.000000\n"
     ]
    }
   ],
   "source": [
    "from tools import statistics\n",
    "statistics(df)"
   ]
  },
  {
   "cell_type": "markdown",
   "metadata": {},
   "source": [
    "### Sparsity\n",
    "\n",
    "Here we explore how sparse (or dense) the dataset is.\n",
    "\n",
    "Number of `None` values for each attribute:"
   ]
  },
  {
   "cell_type": "code",
   "execution_count": 8,
   "metadata": {},
   "outputs": [
    {
     "name": "stdout",
     "output_type": "stream",
     "text": [
      "eventId              0\n",
      "activeTime      857417\n",
      "os                   0\n",
      "deviceType           0\n",
      "userId               0\n",
      "city              3471\n",
      "country           3338\n",
      "region            3338\n",
      "time                 0\n",
      "url                  0\n",
      "title          1421055\n",
      "keywords       1478958\n",
      "author         1498326\n",
      "documentId     1421055\n",
      "category       1600360\n",
      "publishTime    1481365\n",
      "dtype: int64\n"
     ]
    }
   ],
   "source": [
    "print(df_full.isnull().sum())"
   ]
  },
  {
   "cell_type": "markdown",
   "metadata": {},
   "source": [
    "A closer look at the dataset with complete entries:"
   ]
  },
  {
   "cell_type": "code",
   "execution_count": 9,
   "metadata": {},
   "outputs": [
    {
     "name": "stdout",
     "output_type": "stream",
     "text": [
      "Total number of events (front page incl.): 308289\n",
      "Total number of events (without front page): 308289\n",
      "Total number of documents: 8923\n",
      "Sparsity: 3.455%\n",
      "Total number of events (drop duplicates): 272538\n",
      "Sparsity (drop duplicates): 3.054%\n",
      "\n",
      "Describe by user:\n",
      "            counts\n",
      "count   994.000000\n",
      "mean    274.183099\n",
      "std     210.574629\n",
      "min       2.000000\n",
      "25%      96.000000\n",
      "50%     225.000000\n",
      "75%     408.000000\n",
      "max    1187.000000\n"
     ]
    }
   ],
   "source": [
    "statistics(df_full[~df_full.isnull().any(axis=1)])"
   ]
  },
  {
   "cell_type": "markdown",
   "metadata": {},
   "source": [
    "### Preprocessing\n",
    "\n",
    "Since the dataset is prune to containing empty values in very interesting fields, imputing fields with clever values may provide valuable to obtain decent recommendation engines.\n",
    "\n",
    "#TODO: check up imputing data vs dropping"
   ]
  },
  {
   "cell_type": "markdown",
   "metadata": {},
   "source": [
    "### EDA\n",
    "\n",
    "An exploratory data analysis. Exploring articles, users and potential implicit feedback to be used as \"rating\"."
   ]
  },
  {
   "cell_type": "code",
   "execution_count": 10,
   "metadata": {},
   "outputs": [],
   "source": [
    "# All unique articles dataframe\n",
    "articles = df_full[~df_full['documentId'].isna()].drop_duplicates('documentId')  #.set_index('documentId')\n",
    "\n",
    "# All unique users dataframe\n",
    "users = df_full[~df_full['userId'].isna()].drop_duplicates('userId')"
   ]
  },
  {
   "cell_type": "code",
   "execution_count": 11,
   "metadata": {},
   "outputs": [
    {
     "name": "stdout",
     "output_type": "stream",
     "text": [
      "eventId            0\n",
      "activeTime     12214\n",
      "os                 0\n",
      "deviceType         0\n",
      "userId             0\n",
      "city              13\n",
      "country           13\n",
      "region            13\n",
      "time               0\n",
      "url                0\n",
      "title              0\n",
      "keywords        5219\n",
      "author          6238\n",
      "documentId         0\n",
      "category        7613\n",
      "publishTime     5445\n",
      "dtype: int64\n"
     ]
    }
   ],
   "source": [
    "print(articles.isnull().sum())"
   ]
  },
  {
   "cell_type": "code",
   "execution_count": 58,
   "metadata": {},
   "outputs": [],
   "source": [
    "# Overall data\n",
    "n_events = len(df_full)\n",
    "\n",
    "# Items\n",
    "n_items = df_full['documentId'].nunique()\n",
    "\n",
    "# Users\n",
    "n_users = df_full['userId'].nunique()"
   ]
  },
  {
   "cell_type": "markdown",
   "metadata": {},
   "source": [
    "#### Potential implicit feedbacks\n",
    "\n",
    "From here on user referser to userId and item refers to documentId. This is a list of the suggested and/or explored options for implicit feedback (as there is no rating in the dataset this is necessary). Checked suggestions are marked as [x].\n",
    "\n",
    "- [x] activeTime: In the rating matrix, it is the registered time period for the event between a user and a item\n",
    "- [x] Binary click: In the rating matrix, clicked events are referred as 1 and others as 0 (this is done in the example_project.py)\n",
    "- [ ] Cumulative clicks: In the rating matrix, number clicks for each item is entered as rating (uncertain if this makes sense?)\n",
    "- [ ] \n",
    "- [ ] \n",
    "\n",
    "To use a new feature, just implement a method to populate the rating matrix:"
   ]
  },
  {
   "cell_type": "code",
   "execution_count": 56,
   "metadata": {},
   "outputs": [],
   "source": [
    "ratings = np.zeros((n_users, n_items))"
   ]
  },
  {
   "cell_type": "code",
   "execution_count": 14,
   "metadata": {},
   "outputs": [
    {
     "name": "stdout",
     "output_type": "stream",
     "text": [
      "Number of events: 2210998\n",
      "Number of unique documentId's: 20344\n",
      "Number of unique users: 1000\n",
      "Average activeTime per user: 60049.01\n",
      "Average activeTime per document: 2951.68\n"
     ]
    }
   ],
   "source": [
    "total_active_time = df_full['activeTime'].sum()\n",
    "\n",
    "print(f'Number of events: {n_events}')\n",
    "print(f\"Number of unique documentId's: {n_items}\")\n",
    "print(f\"Number of unique users: {n_users}\")\n",
    "print(f\"Average activeTime per user: {round(total_active_time/n_users, 2)}\")\n",
    "print(f\"Average activeTime per document: {round(total_active_time/n_items, 2)}\")"
   ]
  },
  {
   "cell_type": "markdown",
   "metadata": {},
   "source": [
    "Let's look closer at how the data distributes. Below we see how frequently the top most active users have had an event registered with an article as `n_readings`, i.e., on average a user will have accessed a document 789.94 over the entire dataset."
   ]
  },
  {
   "cell_type": "code",
   "execution_count": 16,
   "metadata": {},
   "outputs": [
    {
     "name": "stdout",
     "output_type": "stream",
     "text": [
      "Mean articles accessed for a given user: 789.94\n"
     ]
    }
   ],
   "source": [
    "user_freq = df_full[['userId', 'documentId']].groupby('userId').count().reset_index()\n",
    "user_freq.columns = ['userId', 'n_readings']\n",
    "user_freq.head()\n",
    "mean_readings = user_freq['n_readings'].mean()\n",
    "print(f'Mean articles accessed for a given user: {mean_readings:.2f}')"
   ]
  },
  {
   "cell_type": "code",
   "execution_count": 17,
   "metadata": {},
   "outputs": [
    {
     "data": {
      "image/png": "[encoded data removed]",
      "text/plain": [
       "<Figure size 1008x360 with 2 Axes>"
      ]
     },
     "metadata": {},
     "output_type": "display_data"
    }
   ],
   "source": [
    "sns.set_style('whitegrid')\n",
    "plt.figure(figsize=(14, 5))\n",
    "plt.subplot(1, 2, 1)\n",
    "ax1 = sns.histplot(data=df_full['activeTime'])\n",
    "ax1.set_xlim([0, 200])\n",
    "ax1.set_ylim([0, 55000])\n",
    "plt.title(\"Distribution of activeTime\")\n",
    "\n",
    "ax2 = plt.subplot(1, 2, 2)\n",
    "ax2 = sns.kdeplot(user_freq['n_readings'], shade=True, legend=False)\n",
    "plt.axvline(mean_readings, color='k', linestyle='--')\n",
    "plt.xlabel('activeTime per user')\n",
    "plt.ylabel('density')\n",
    "plt.title('Number of accessed documents per user')\n",
    "plt.show()"
   ]
  },
  {
   "cell_type": "markdown",
   "metadata": {},
   "source": [
    "We clearly see how the activeTime resembles how a small number of products, in this case events, are more \"popular\", here given more activeTime, than other events. We also see that the most common activeTime for users ignoring the `NaN` values is around 4 seconds.\n",
    "\n",
    "Other useful information such as articles with shortest and longest activeTime (ignoring `NaN`):"
   ]
  },
  {
   "cell_type": "code",
   "execution_count": 18,
   "metadata": {},
   "outputs": [
    {
     "data": {
      "text/html": [
       "<div>\n",
       "<style scoped>\n",
       "    .dataframe tbody tr th:only-of-type {\n",
       "        vertical-align: middle;\n",
       "    }\n",
       "\n",
       "    .dataframe tbody tr th {\n",
       "        vertical-align: top;\n",
       "    }\n",
       "\n",
       "    .dataframe thead th {\n",
       "        text-align: right;\n",
       "    }\n",
       "</style>\n",
       "<table border=\"1\" class=\"dataframe\">\n",
       "  <thead>\n",
       "    <tr style=\"text-align: right;\">\n",
       "      <th></th>\n",
       "      <th>eventId</th>\n",
       "      <th>activeTime</th>\n",
       "      <th>os</th>\n",
       "      <th>deviceType</th>\n",
       "      <th>userId</th>\n",
       "      <th>city</th>\n",
       "      <th>country</th>\n",
       "      <th>region</th>\n",
       "      <th>time</th>\n",
       "      <th>url</th>\n",
       "      <th>title</th>\n",
       "      <th>keywords</th>\n",
       "      <th>author</th>\n",
       "      <th>documentId</th>\n",
       "      <th>category</th>\n",
       "      <th>publishTime</th>\n",
       "    </tr>\n",
       "  </thead>\n",
       "  <tbody>\n",
       "    <tr>\n",
       "      <th>870646</th>\n",
       "      <td>999401185</td>\n",
       "      <td>1.0</td>\n",
       "      <td>Linux</td>\n",
       "      <td>Desktop</td>\n",
       "      <td>cx:ib1vo01vq38f2mqc:20lut6o1pv35i</td>\n",
       "      <td>lorenskog</td>\n",
       "      <td>no</td>\n",
       "      <td>akershus</td>\n",
       "      <td>1486734932</td>\n",
       "      <td>http://adressa.no/nyheter/utenriks/2017/02/10/...</td>\n",
       "      <td>DPA: Tysk minister vil kutte i barnetrygden fo...</td>\n",
       "      <td>NaN</td>\n",
       "      <td>NaN</td>\n",
       "      <td>009b7dd5aa26ced1c1135b925baa35cd2ebabfd9</td>\n",
       "      <td>None</td>\n",
       "      <td>None</td>\n",
       "    </tr>\n",
       "  </tbody>\n",
       "</table>\n",
       "</div>"
      ],
      "text/plain": [
       "          eventId  activeTime     os deviceType  \\\n",
       "870646  999401185         1.0  Linux    Desktop   \n",
       "\n",
       "                                   userId       city country    region  \\\n",
       "870646  cx:ib1vo01vq38f2mqc:20lut6o1pv35i  lorenskog      no  akershus   \n",
       "\n",
       "              time                                                url  \\\n",
       "870646  1486734932  http://adressa.no/nyheter/utenriks/2017/02/10/...   \n",
       "\n",
       "                                                    title keywords author  \\\n",
       "870646  DPA: Tysk minister vil kutte i barnetrygden fo...      NaN    NaN   \n",
       "\n",
       "                                      documentId category publishTime  \n",
       "870646  009b7dd5aa26ced1c1135b925baa35cd2ebabfd9     None        None  "
      ]
     },
     "execution_count": 18,
     "metadata": {},
     "output_type": "execute_result"
    }
   ],
   "source": [
    "activeTime_documents = df_full[~df_full['activeTime'].isna()].groupby('documentId')[['activeTime']].mean()\n",
    "\n",
    "shortest_activeTime = activeTime_documents['activeTime'].idxmin()\n",
    "df_full.loc[df_full['documentId'] == shortest_activeTime]"
   ]
  },
  {
   "cell_type": "code",
   "execution_count": 19,
   "metadata": {},
   "outputs": [
    {
     "data": {
      "text/html": [
       "<div>\n",
       "<style scoped>\n",
       "    .dataframe tbody tr th:only-of-type {\n",
       "        vertical-align: middle;\n",
       "    }\n",
       "\n",
       "    .dataframe tbody tr th {\n",
       "        vertical-align: top;\n",
       "    }\n",
       "\n",
       "    .dataframe thead th {\n",
       "        text-align: right;\n",
       "    }\n",
       "</style>\n",
       "<table border=\"1\" class=\"dataframe\">\n",
       "  <thead>\n",
       "    <tr style=\"text-align: right;\">\n",
       "      <th></th>\n",
       "      <th>eventId</th>\n",
       "      <th>activeTime</th>\n",
       "      <th>os</th>\n",
       "      <th>deviceType</th>\n",
       "      <th>userId</th>\n",
       "      <th>city</th>\n",
       "      <th>country</th>\n",
       "      <th>region</th>\n",
       "      <th>time</th>\n",
       "      <th>url</th>\n",
       "      <th>title</th>\n",
       "      <th>keywords</th>\n",
       "      <th>author</th>\n",
       "      <th>documentId</th>\n",
       "      <th>category</th>\n",
       "      <th>publishTime</th>\n",
       "    </tr>\n",
       "  </thead>\n",
       "  <tbody>\n",
       "    <tr>\n",
       "      <th>406211</th>\n",
       "      <td>1146367693</td>\n",
       "      <td>823.0</td>\n",
       "      <td>Windows</td>\n",
       "      <td>Desktop</td>\n",
       "      <td>cx:14ibqfgfmaa4a24cenj9rgf2lz:3nnpj3jn9yna9</td>\n",
       "      <td>trondheim</td>\n",
       "      <td>no</td>\n",
       "      <td>sor-trondelag</td>\n",
       "      <td>1485292911</td>\n",
       "      <td>http://adressa.no/nyheter/adressa_noogda/artic...</td>\n",
       "      <td>Popgrupper på 1970-tallet</td>\n",
       "      <td>utenriks,innenriks,trondheim,E6,midtbyen,bybra...</td>\n",
       "      <td>ingrid brissach</td>\n",
       "      <td>f62707043a8f01e35981c324532240f89af91be6</td>\n",
       "      <td>nyheter|adressa noogda</td>\n",
       "      <td>2014-08-09T21:39:04.000Z</td>\n",
       "    </tr>\n",
       "  </tbody>\n",
       "</table>\n",
       "</div>"
      ],
      "text/plain": [
       "           eventId  activeTime       os deviceType  \\\n",
       "406211  1146367693       823.0  Windows    Desktop   \n",
       "\n",
       "                                             userId       city country  \\\n",
       "406211  cx:14ibqfgfmaa4a24cenj9rgf2lz:3nnpj3jn9yna9  trondheim      no   \n",
       "\n",
       "               region        time  \\\n",
       "406211  sor-trondelag  1485292911   \n",
       "\n",
       "                                                      url  \\\n",
       "406211  http://adressa.no/nyheter/adressa_noogda/artic...   \n",
       "\n",
       "                            title  \\\n",
       "406211  Popgrupper på 1970-tallet   \n",
       "\n",
       "                                                 keywords           author  \\\n",
       "406211  utenriks,innenriks,trondheim,E6,midtbyen,bybra...  ingrid brissach   \n",
       "\n",
       "                                      documentId                category  \\\n",
       "406211  f62707043a8f01e35981c324532240f89af91be6  nyheter|adressa noogda   \n",
       "\n",
       "                     publishTime  \n",
       "406211  2014-08-09T21:39:04.000Z  "
      ]
     },
     "execution_count": 19,
     "metadata": {},
     "output_type": "execute_result"
    }
   ],
   "source": [
    "longest_activeTime = activeTime_documents['activeTime'].idxmax()\n",
    "\n",
    "df_full[~df_full['activeTime'].isna()].loc[df_full['documentId'] == longest_activeTime]"
   ]
  },
  {
   "cell_type": "markdown",
   "metadata": {},
   "source": [
    "Its also interesting to see that the number of events associated with the document with the longest activeTime is just 4:"
   ]
  },
  {
   "cell_type": "code",
   "execution_count": 20,
   "metadata": {},
   "outputs": [
    {
     "data": {
      "text/html": [
       "<div>\n",
       "<style scoped>\n",
       "    .dataframe tbody tr th:only-of-type {\n",
       "        vertical-align: middle;\n",
       "    }\n",
       "\n",
       "    .dataframe tbody tr th {\n",
       "        vertical-align: top;\n",
       "    }\n",
       "\n",
       "    .dataframe thead th {\n",
       "        text-align: right;\n",
       "    }\n",
       "</style>\n",
       "<table border=\"1\" class=\"dataframe\">\n",
       "  <thead>\n",
       "    <tr style=\"text-align: right;\">\n",
       "      <th></th>\n",
       "      <th>eventId</th>\n",
       "      <th>activeTime</th>\n",
       "      <th>os</th>\n",
       "      <th>deviceType</th>\n",
       "      <th>userId</th>\n",
       "      <th>city</th>\n",
       "      <th>country</th>\n",
       "      <th>region</th>\n",
       "      <th>time</th>\n",
       "      <th>url</th>\n",
       "      <th>title</th>\n",
       "      <th>keywords</th>\n",
       "      <th>author</th>\n",
       "      <th>documentId</th>\n",
       "      <th>category</th>\n",
       "      <th>publishTime</th>\n",
       "    </tr>\n",
       "  </thead>\n",
       "  <tbody>\n",
       "    <tr>\n",
       "      <th>168709</th>\n",
       "      <td>546110405</td>\n",
       "      <td>NaN</td>\n",
       "      <td>Windows</td>\n",
       "      <td>Desktop</td>\n",
       "      <td>cx:i90t5goml5anvrae:27htgkglyporz</td>\n",
       "      <td>haltdalen</td>\n",
       "      <td>no</td>\n",
       "      <td>sor-trondelag</td>\n",
       "      <td>1484556731</td>\n",
       "      <td>http://adressa.no/nyheter/adressa_noogda/artic...</td>\n",
       "      <td>Popgrupper på 1970-tallet</td>\n",
       "      <td>utenriks,innenriks,trondheim,E6,midtbyen,bybra...</td>\n",
       "      <td>ingrid brissach</td>\n",
       "      <td>f62707043a8f01e35981c324532240f89af91be6</td>\n",
       "      <td>nyheter|adressa noogda</td>\n",
       "      <td>2014-08-09T21:39:04.000Z</td>\n",
       "    </tr>\n",
       "    <tr>\n",
       "      <th>169494</th>\n",
       "      <td>27772679</td>\n",
       "      <td>NaN</td>\n",
       "      <td>Windows</td>\n",
       "      <td>Desktop</td>\n",
       "      <td>cx:i90t5goml5anvrae:27htgkglyporz</td>\n",
       "      <td>haltdalen</td>\n",
       "      <td>no</td>\n",
       "      <td>sor-trondelag</td>\n",
       "      <td>1484559095</td>\n",
       "      <td>http://adressa.no/nyheter/adressa_noogda/artic...</td>\n",
       "      <td>Popgrupper på 1970-tallet</td>\n",
       "      <td>utenriks,innenriks,trondheim,E6,midtbyen,bybra...</td>\n",
       "      <td>ingrid brissach</td>\n",
       "      <td>f62707043a8f01e35981c324532240f89af91be6</td>\n",
       "      <td>nyheter|adressa noogda</td>\n",
       "      <td>2014-08-09T21:39:04.000Z</td>\n",
       "    </tr>\n",
       "    <tr>\n",
       "      <th>406211</th>\n",
       "      <td>1146367693</td>\n",
       "      <td>823.0</td>\n",
       "      <td>Windows</td>\n",
       "      <td>Desktop</td>\n",
       "      <td>cx:14ibqfgfmaa4a24cenj9rgf2lz:3nnpj3jn9yna9</td>\n",
       "      <td>trondheim</td>\n",
       "      <td>no</td>\n",
       "      <td>sor-trondelag</td>\n",
       "      <td>1485292911</td>\n",
       "      <td>http://adressa.no/nyheter/adressa_noogda/artic...</td>\n",
       "      <td>Popgrupper på 1970-tallet</td>\n",
       "      <td>utenriks,innenriks,trondheim,E6,midtbyen,bybra...</td>\n",
       "      <td>ingrid brissach</td>\n",
       "      <td>f62707043a8f01e35981c324532240f89af91be6</td>\n",
       "      <td>nyheter|adressa noogda</td>\n",
       "      <td>2014-08-09T21:39:04.000Z</td>\n",
       "    </tr>\n",
       "    <tr>\n",
       "      <th>851971</th>\n",
       "      <td>1395192641</td>\n",
       "      <td>NaN</td>\n",
       "      <td>Macintosh</td>\n",
       "      <td>Desktop</td>\n",
       "      <td>cx:i29htb5aoe26692l:1rt4ul0023dh4</td>\n",
       "      <td>trondheim</td>\n",
       "      <td>no</td>\n",
       "      <td>sor-trondelag</td>\n",
       "      <td>1486666619</td>\n",
       "      <td>http://adressa.no/nyheter/adressa_noogda/artic...</td>\n",
       "      <td>Popgrupper på 1970-tallet</td>\n",
       "      <td>utenriks,innenriks,trondheim,E6,midtbyen,bybra...</td>\n",
       "      <td>ingrid brissach</td>\n",
       "      <td>f62707043a8f01e35981c324532240f89af91be6</td>\n",
       "      <td>nyheter|adressa noogda</td>\n",
       "      <td>2014-08-09T21:39:04.000Z</td>\n",
       "    </tr>\n",
       "  </tbody>\n",
       "</table>\n",
       "</div>"
      ],
      "text/plain": [
       "           eventId  activeTime         os deviceType  \\\n",
       "168709   546110405         NaN    Windows    Desktop   \n",
       "169494    27772679         NaN    Windows    Desktop   \n",
       "406211  1146367693       823.0    Windows    Desktop   \n",
       "851971  1395192641         NaN  Macintosh    Desktop   \n",
       "\n",
       "                                             userId       city country  \\\n",
       "168709            cx:i90t5goml5anvrae:27htgkglyporz  haltdalen      no   \n",
       "169494            cx:i90t5goml5anvrae:27htgkglyporz  haltdalen      no   \n",
       "406211  cx:14ibqfgfmaa4a24cenj9rgf2lz:3nnpj3jn9yna9  trondheim      no   \n",
       "851971            cx:i29htb5aoe26692l:1rt4ul0023dh4  trondheim      no   \n",
       "\n",
       "               region        time  \\\n",
       "168709  sor-trondelag  1484556731   \n",
       "169494  sor-trondelag  1484559095   \n",
       "406211  sor-trondelag  1485292911   \n",
       "851971  sor-trondelag  1486666619   \n",
       "\n",
       "                                                      url  \\\n",
       "168709  http://adressa.no/nyheter/adressa_noogda/artic...   \n",
       "169494  http://adressa.no/nyheter/adressa_noogda/artic...   \n",
       "406211  http://adressa.no/nyheter/adressa_noogda/artic...   \n",
       "851971  http://adressa.no/nyheter/adressa_noogda/artic...   \n",
       "\n",
       "                            title  \\\n",
       "168709  Popgrupper på 1970-tallet   \n",
       "169494  Popgrupper på 1970-tallet   \n",
       "406211  Popgrupper på 1970-tallet   \n",
       "851971  Popgrupper på 1970-tallet   \n",
       "\n",
       "                                                 keywords           author  \\\n",
       "168709  utenriks,innenriks,trondheim,E6,midtbyen,bybra...  ingrid brissach   \n",
       "169494  utenriks,innenriks,trondheim,E6,midtbyen,bybra...  ingrid brissach   \n",
       "406211  utenriks,innenriks,trondheim,E6,midtbyen,bybra...  ingrid brissach   \n",
       "851971  utenriks,innenriks,trondheim,E6,midtbyen,bybra...  ingrid brissach   \n",
       "\n",
       "                                      documentId                category  \\\n",
       "168709  f62707043a8f01e35981c324532240f89af91be6  nyheter|adressa noogda   \n",
       "169494  f62707043a8f01e35981c324532240f89af91be6  nyheter|adressa noogda   \n",
       "406211  f62707043a8f01e35981c324532240f89af91be6  nyheter|adressa noogda   \n",
       "851971  f62707043a8f01e35981c324532240f89af91be6  nyheter|adressa noogda   \n",
       "\n",
       "                     publishTime  \n",
       "168709  2014-08-09T21:39:04.000Z  \n",
       "169494  2014-08-09T21:39:04.000Z  \n",
       "406211  2014-08-09T21:39:04.000Z  \n",
       "851971  2014-08-09T21:39:04.000Z  "
      ]
     },
     "execution_count": 20,
     "metadata": {},
     "output_type": "execute_result"
    }
   ],
   "source": [
    "df_full[df_full['documentId'] == longest_activeTime]"
   ]
  },
  {
   "cell_type": "markdown",
   "metadata": {},
   "source": [
    "#### Dealing with empty values\n",
    "\n",
    "There is a lot of empty attributes in the dataset (`NaN`). Hence, when an attribute is needed for a recommender engine e.g. as implicit feedback we have to remove the rows containing the values or interpolate them in some way. Usually, if there is a rationale behind imputing values this is preferred over just deleting the rows containing the `NaN`-values.\n",
    "\n",
    "Different approaches for imputing data depend on the attribute in question. E.g. for activeTime it might be possible to replace with the mean for empty values, but an even more clever way to proceed would be to use the mean of the activeTimes for different categories to impute the data. The same yields true for keywords.\n"
   ]
  },
  {
   "cell_type": "code",
   "execution_count": 64,
   "metadata": {},
   "outputs": [
    {
     "data": {
      "text/html": [
       "<div>\n",
       "<style scoped>\n",
       "    .dataframe tbody tr th:only-of-type {\n",
       "        vertical-align: middle;\n",
       "    }\n",
       "\n",
       "    .dataframe tbody tr th {\n",
       "        vertical-align: top;\n",
       "    }\n",
       "\n",
       "    .dataframe thead th {\n",
       "        text-align: right;\n",
       "    }\n",
       "</style>\n",
       "<table border=\"1\" class=\"dataframe\">\n",
       "  <thead>\n",
       "    <tr style=\"text-align: right;\">\n",
       "      <th></th>\n",
       "      <th>eventId</th>\n",
       "      <th>activeTime</th>\n",
       "      <th>os</th>\n",
       "      <th>deviceType</th>\n",
       "      <th>userId</th>\n",
       "      <th>city</th>\n",
       "      <th>country</th>\n",
       "      <th>region</th>\n",
       "      <th>time</th>\n",
       "      <th>url</th>\n",
       "      <th>title</th>\n",
       "      <th>keywords</th>\n",
       "      <th>author</th>\n",
       "      <th>documentId</th>\n",
       "      <th>category</th>\n",
       "      <th>publishTime</th>\n",
       "    </tr>\n",
       "  </thead>\n",
       "  <tbody>\n",
       "    <tr>\n",
       "      <th>32</th>\n",
       "      <td>1445037239</td>\n",
       "      <td>NaN</td>\n",
       "      <td>iPhone OS</td>\n",
       "      <td>Mobile</td>\n",
       "      <td>cx:1a14ikdig4lse1yr7x4flb13dd:fo6lrl3k2wob</td>\n",
       "      <td>oslo</td>\n",
       "      <td>no</td>\n",
       "      <td>oslo</td>\n",
       "      <td>1483225613</td>\n",
       "      <td>http://adressa.no/nyheter/innenriks/2016/12/31/mange-nordmenn-vil-trene-mer-i-2017-14000934.ece</td>\n",
       "      <td>Én av tre nordmenn vil trene mer i 2017</td>\n",
       "      <td>utenriks,innenriks,trondheim,E6,midtbyen,bybrann,bilulykker</td>\n",
       "      <td>ntb</td>\n",
       "      <td>080b1bbe40a36dda8cf11482647b8b534fec2226</td>\n",
       "      <td>[nyheter, innenriks]</td>\n",
       "      <td>2016-12-31T22:47:54.000Z</td>\n",
       "    </tr>\n",
       "    <tr>\n",
       "      <th>42</th>\n",
       "      <td>24027473</td>\n",
       "      <td>90.0</td>\n",
       "      <td>Android</td>\n",
       "      <td>Mobile</td>\n",
       "      <td>cx:1e1f63c523ffl2soio74f5sp5n:bdwc2uq43w9w</td>\n",
       "      <td>trondheim</td>\n",
       "      <td>no</td>\n",
       "      <td>sor-trondelag</td>\n",
       "      <td>1483225658</td>\n",
       "      <td>http://adressa.no/100sport/sjakk/pa-dette-bildet-skiller-magnus-carlsen-seg-ut---litt-tilfeldig-...</td>\n",
       "      <td>På dette bildet skiller Magnus Carlsen seg ut: - Litt tilfeldig</td>\n",
       "      <td>Magnus Carlsen</td>\n",
       "      <td>nicholas bergh</td>\n",
       "      <td>05e4209b296dc7dfc9d4e0c401d79256bcea4cb5</td>\n",
       "      <td>[100sport, sjakk]</td>\n",
       "      <td>2016-12-31T16:12:10.000Z</td>\n",
       "    </tr>\n",
       "    <tr>\n",
       "      <th>50</th>\n",
       "      <td>330189993</td>\n",
       "      <td>NaN</td>\n",
       "      <td>iPhone OS</td>\n",
       "      <td>Tablet</td>\n",
       "      <td>cx:1m0dupfv97gglk5u9yfw65lhl:2sjgjqpk418jv</td>\n",
       "      <td>trondheim</td>\n",
       "      <td>no</td>\n",
       "      <td>sor-trondelag</td>\n",
       "      <td>1483225723</td>\n",
       "      <td>http://adressa.no/nyheter/trondheim/2016/12/31/det-blir-fyrverkeri-14000281.ece</td>\n",
       "      <td>- Det blir fyrverkeri</td>\n",
       "      <td>utenriks,innenriks,trondheim,E6,midtbyen,bybrann,bilulykker</td>\n",
       "      <td>['norunn bergesen', 'joakim slettebak wangen']</td>\n",
       "      <td>2607fc7d7b4c0ede839a5ff6d499fa428237443e</td>\n",
       "      <td>[nyheter, trondheim]</td>\n",
       "      <td>2016-12-31T15:48:48.000Z</td>\n",
       "    </tr>\n",
       "    <tr>\n",
       "      <th>84</th>\n",
       "      <td>670227815</td>\n",
       "      <td>NaN</td>\n",
       "      <td>iPhone OS</td>\n",
       "      <td>Mobile</td>\n",
       "      <td>cx:if18acolhbyfdhug:1rng4vxjk91f2</td>\n",
       "      <td>trondheim</td>\n",
       "      <td>no</td>\n",
       "      <td>sor-trondelag</td>\n",
       "      <td>1483225902</td>\n",
       "      <td>http://adressa.no/nyheter/innenriks/2016/12/31/mange-nordmenn-vil-trene-mer-i-2017-14000934.ece</td>\n",
       "      <td>Én av tre nordmenn vil trene mer i 2017</td>\n",
       "      <td>utenriks,innenriks,trondheim,E6,midtbyen,bybrann,bilulykker</td>\n",
       "      <td>ntb</td>\n",
       "      <td>080b1bbe40a36dda8cf11482647b8b534fec2226</td>\n",
       "      <td>[nyheter, innenriks]</td>\n",
       "      <td>2016-12-31T22:47:54.000Z</td>\n",
       "    </tr>\n",
       "    <tr>\n",
       "      <th>110</th>\n",
       "      <td>1329919923</td>\n",
       "      <td>NaN</td>\n",
       "      <td>iPhone OS</td>\n",
       "      <td>Mobile</td>\n",
       "      <td>cx:3qgspqpx3bs6r15a2s9wjs8vnx:ld7dxj2thh73</td>\n",
       "      <td>trondheim</td>\n",
       "      <td>no</td>\n",
       "      <td>sor-trondelag</td>\n",
       "      <td>1483226014</td>\n",
       "      <td>http://adressa.no/nyheter/innenriks/2016/12/31/mange-nordmenn-vil-trene-mer-i-2017-14000934.ece</td>\n",
       "      <td>Én av tre nordmenn vil trene mer i 2017</td>\n",
       "      <td>utenriks,innenriks,trondheim,E6,midtbyen,bybrann,bilulykker</td>\n",
       "      <td>ntb</td>\n",
       "      <td>080b1bbe40a36dda8cf11482647b8b534fec2226</td>\n",
       "      <td>[nyheter, innenriks]</td>\n",
       "      <td>2016-12-31T22:47:54.000Z</td>\n",
       "    </tr>\n",
       "  </tbody>\n",
       "</table>\n",
       "</div>"
      ],
      "text/plain": [
       "        eventId  activeTime         os deviceType                                      userId       city country         region        time                                                                                                  url                                                            title                                                     keywords                                          author                                documentId              category               publishTime\n",
       "32   1445037239         NaN  iPhone OS     Mobile  cx:1a14ikdig4lse1yr7x4flb13dd:fo6lrl3k2wob       oslo      no           oslo  1483225613      http://adressa.no/nyheter/innenriks/2016/12/31/mange-nordmenn-vil-trene-mer-i-2017-14000934.ece                          Én av tre nordmenn vil trene mer i 2017  utenriks,innenriks,trondheim,E6,midtbyen,bybrann,bilulykker                                             ntb  080b1bbe40a36dda8cf11482647b8b534fec2226  [nyheter, innenriks]  2016-12-31T22:47:54.000Z\n",
       "42     24027473        90.0    Android     Mobile  cx:1e1f63c523ffl2soio74f5sp5n:bdwc2uq43w9w  trondheim      no  sor-trondelag  1483225658  http://adressa.no/100sport/sjakk/pa-dette-bildet-skiller-magnus-carlsen-seg-ut---litt-tilfeldig-...  På dette bildet skiller Magnus Carlsen seg ut: - Litt tilfeldig                                               Magnus Carlsen                                  nicholas bergh  05e4209b296dc7dfc9d4e0c401d79256bcea4cb5     [100sport, sjakk]  2016-12-31T16:12:10.000Z\n",
       "50    330189993         NaN  iPhone OS     Tablet  cx:1m0dupfv97gglk5u9yfw65lhl:2sjgjqpk418jv  trondheim      no  sor-trondelag  1483225723                      http://adressa.no/nyheter/trondheim/2016/12/31/det-blir-fyrverkeri-14000281.ece                                            - Det blir fyrverkeri  utenriks,innenriks,trondheim,E6,midtbyen,bybrann,bilulykker  ['norunn bergesen', 'joakim slettebak wangen']  2607fc7d7b4c0ede839a5ff6d499fa428237443e  [nyheter, trondheim]  2016-12-31T15:48:48.000Z\n",
       "84    670227815         NaN  iPhone OS     Mobile           cx:if18acolhbyfdhug:1rng4vxjk91f2  trondheim      no  sor-trondelag  1483225902      http://adressa.no/nyheter/innenriks/2016/12/31/mange-nordmenn-vil-trene-mer-i-2017-14000934.ece                          Én av tre nordmenn vil trene mer i 2017  utenriks,innenriks,trondheim,E6,midtbyen,bybrann,bilulykker                                             ntb  080b1bbe40a36dda8cf11482647b8b534fec2226  [nyheter, innenriks]  2016-12-31T22:47:54.000Z\n",
       "110  1329919923         NaN  iPhone OS     Mobile  cx:3qgspqpx3bs6r15a2s9wjs8vnx:ld7dxj2thh73  trondheim      no  sor-trondelag  1483226014      http://adressa.no/nyheter/innenriks/2016/12/31/mange-nordmenn-vil-trene-mer-i-2017-14000934.ece                          Én av tre nordmenn vil trene mer i 2017  utenriks,innenriks,trondheim,E6,midtbyen,bybrann,bilulykker                                             ntb  080b1bbe40a36dda8cf11482647b8b534fec2226  [nyheter, innenriks]  2016-12-31T22:47:54.000Z"
      ]
     },
     "execution_count": 64,
     "metadata": {},
     "output_type": "execute_result"
    }
   ],
   "source": [
    "# users = users[users['user_id'].notna()]\n",
    "# articles = articles[articles['document_id'].notna()]\n",
    "# df = df[df['documentId'].notna() & df['userId'].notna() & df['activeTime'].notna()]\n",
    "# df['categories'] = df['categories'].apply(lambda x: x.split(\"|\"))\n",
    "# df = df.astype({'title': 'str', 'url': 'str', 'userId': 'str', 'documentId': 'str'})\n",
    "\n",
    "# preprocessing of entire df\n",
    "\n",
    "# Replace empty activeTimes with the mean\n",
    "# df['activeTim'].fillna(df['activeTime'].mean(), inplace = True)\n",
    "# print(df.isnull().sum())\n",
    "\n",
    "# ax = sns.countplot(x='activeTime', data=df_full, palette='cool_r')\n",
    "\n",
    "# Remove empty categories from articles and make into list\n",
    "articles_with_cat = df_full[df_full['category'].notna()]\n",
    "articles_with_cat['category'] = articles_with_cat['category'].apply(lambda x: x.split('|'))\n",
    "articles_with_cat.head()"
   ]
  },
  {
   "cell_type": "code",
   "execution_count": 65,
   "metadata": {},
   "outputs": [
    {
     "name": "stdout",
     "output_type": "stream",
     "text": [
      "There are 82 genre labels.\n"
     ]
    },
    {
     "data": {
      "text/plain": [
       "Counter({'nyheter': 340615,\n",
       "         'innenriks': 20767,\n",
       "         '100sport': 150498,\n",
       "         'sjakk': 609,\n",
       "         'trondheim': 112434,\n",
       "         'vintersport': 78434,\n",
       "         'pluss': 165242,\n",
       "         'magasin': 23536,\n",
       "         'sortrondelag': 59751,\n",
       "         'fotball': 45270,\n",
       "         'kultur': 18957,\n",
       "         'okonomi': 58251,\n",
       "         'mesterskap': 36,\n",
       "         'politikk': 1806,\n",
       "         'nordtrondelag': 42210,\n",
       "         'meninger': 33232,\n",
       "         'moreromsdal': 5823,\n",
       "         'sprek': 9001,\n",
       "         'ordetfritt': 12839,\n",
       "         'adressa noogda': 147,\n",
       "         'utenriks': 11123,\n",
       "         'sport': 1457,\n",
       "         'tv': 292,\n",
       "         'forbruker': 610,\n",
       "         'hjem': 586,\n",
       "         'tema': 181,\n",
       "         'villeveier': 15,\n",
       "         'bolig': 2438,\n",
       "         'boligguiden': 2438,\n",
       "         'ballsport': 11056,\n",
       "         'andreidretter': 2368,\n",
       "         'makteliten': 3,\n",
       "         'film': 31,\n",
       "         'kronikker': 1778,\n",
       "         'oppdraget': 32,\n",
       "         'arets tronder': 162,\n",
       "         'idrettspolitikk': 2691,\n",
       "         'musikk': 330,\n",
       "         'tjenester': 32,\n",
       "         'bildeserier': 30,\n",
       "         'serier': 1354,\n",
       "         'vin': 17,\n",
       "         'helse': 21,\n",
       "         'kampsport': 251,\n",
       "         'vaeret': 28,\n",
       "         'klima': 28,\n",
       "         'leder': 548,\n",
       "         'langrenn': 1,\n",
       "         'friidrett': 1,\n",
       "         'migration catalog': 1383,\n",
       "         'kommentarer': 96,\n",
       "         'sykkel': 247,\n",
       "         'utawards': 2,\n",
       "         'dokument': 4,\n",
       "         'digital': 10,\n",
       "         'konkurranser': 2,\n",
       "         'annenside': 11,\n",
       "         'bil': 3,\n",
       "         'veteran': 3,\n",
       "         'spill': 36,\n",
       "         'uteliv': 1,\n",
       "         'psykiatri': 3,\n",
       "         'festivaler': 4,\n",
       "         'fritid': 6,\n",
       "         'livsstil': 2,\n",
       "         'midt-norge': 17,\n",
       "         'terrorangrepet': 2,\n",
       "         'bok': 6,\n",
       "         'kuriosa': 18,\n",
       "         'sexogsamliv': 3,\n",
       "         'motorsport': 1,\n",
       "         'scene': 36,\n",
       "         'innsyn': 2,\n",
       "         'rockamiddag': 1,\n",
       "         'anmeldt': 1,\n",
       "         'snakkut': 4,\n",
       "         'personlig okonomi': 3,\n",
       "         'omadresseavisen': 2,\n",
       "         'arrangementer': 2,\n",
       "         'kvinner': 1,\n",
       "         'utguiden': 3,\n",
       "         'aretstronder': 1})"
      ]
     },
     "execution_count": 65,
     "metadata": {},
     "output_type": "execute_result"
    }
   ],
   "source": [
    "# How many categories are there\n",
    "from collections import Counter\n",
    "\n",
    "# Count categories and appearance\n",
    "category_counts = Counter(c for cat in articles_with_cat['category'] for c in cat)\n",
    "print(f\"There are {len(category_counts)} genre labels.\")\n",
    "category_counts"
   ]
  },
  {
   "cell_type": "code",
   "execution_count": 66,
   "metadata": {},
   "outputs": [
    {
     "name": "stdout",
     "output_type": "stream",
     "text": [
      "The 5 most common categories are: \n",
      " [('nyheter', 340615), ('pluss', 165242), ('100sport', 150498), ('trondheim', 112434), ('vintersport', 78434)]\n"
     ]
    }
   ],
   "source": [
    "# Most popular categories\n",
    "print(f'The 5 most common categories are: \\n', category_counts.most_common(5))"
   ]
  },
  {
   "cell_type": "markdown",
   "metadata": {},
   "source": [
    "Here we see that the five most popular categories are nyheter (news), pluss (plus, paid subscription), 100sport, trondheim and vintersport (winter sports).\n",
    "\n",
    "Visualization of the top 20 most popular categories:"
   ]
  },
  {
   "cell_type": "code",
   "execution_count": 67,
   "metadata": {},
   "outputs": [
    {
     "data": {
      "image/png": "[encoded data removed]",
      "text/plain": [
       "<Figure size 1008x360 with 1 Axes>"
      ]
     },
     "metadata": {},
     "output_type": "display_data"
    }
   ],
   "source": [
    "categories_counts_df = pd.DataFrame([category_counts]).T.reset_index()\n",
    "categories_counts_df.columns = ['categories', 'count']\n",
    "categories_counts_df = categories_counts_df.sort_values(by='count', ascending=False)\n",
    "\n",
    "plt.figure(figsize=(14, 5))\n",
    "sns.barplot(x='categories', y='count', data=categories_counts_df.head(20), palette='viridis')\n",
    "plt.xticks(rotation=90)\n",
    "plt.show()"
   ]
  },
  {
   "cell_type": "markdown",
   "metadata": {},
   "source": [
    "### Transforming data for content-based recommendation\n",
    "\n",
    "In order to build a content-based filtering recommender, we need to set up our dataset so that rows represent movies and columns represent features (i.e., categories and city).\n",
    "\n",
    "First, we need to manipulate the categories column so that each category is represented as a separate binary feature. \"1\" indicates that the article falls under a given category, while \"0\" does not."
   ]
  },
  {
   "cell_type": "code",
   "execution_count": 68,
   "metadata": {},
   "outputs": [
    {
     "data": {
      "text/plain": [
       "15                          None\n",
       "18                          None\n",
       "32             nyheter|innenriks\n",
       "34                          None\n",
       "42                100sport|sjakk\n",
       "                   ...          \n",
       "2209965    nyheter|nordtrondelag\n",
       "2210043      nyheter|moreromsdal\n",
       "2210115                     None\n",
       "2210398             pluss|kultur\n",
       "2210582         100sport|fotball\n",
       "Name: category, Length: 20344, dtype: object"
      ]
     },
     "execution_count": 68,
     "metadata": {},
     "output_type": "execute_result"
    }
   ],
   "source": [
    "articles['category']"
   ]
  },
  {
   "cell_type": "code",
   "execution_count": 69,
   "metadata": {},
   "outputs": [],
   "source": [
    "categories = list(category_counts.keys())\n",
    "\n",
    "# drop duplicates\n",
    "articles_fc = articles_with_cat.drop_duplicates('documentId')\n",
    "\n",
    "for c in categories:\n",
    "    articles_fc[c] = articles_fc['category'].transform(lambda x: int(c in x))"
   ]
  },
  {
   "cell_type": "code",
   "execution_count": 70,
   "metadata": {},
   "outputs": [
    {
     "data": {
      "text/html": [
       "<div>\n",
       "<style scoped>\n",
       "    .dataframe tbody tr th:only-of-type {\n",
       "        vertical-align: middle;\n",
       "    }\n",
       "\n",
       "    .dataframe tbody tr th {\n",
       "        vertical-align: top;\n",
       "    }\n",
       "\n",
       "    .dataframe thead th {\n",
       "        text-align: right;\n",
       "    }\n",
       "</style>\n",
       "<table border=\"1\" class=\"dataframe\">\n",
       "  <thead>\n",
       "    <tr style=\"text-align: right;\">\n",
       "      <th></th>\n",
       "      <th>nyheter</th>\n",
       "      <th>innenriks</th>\n",
       "      <th>100sport</th>\n",
       "      <th>sjakk</th>\n",
       "      <th>trondheim</th>\n",
       "      <th>vintersport</th>\n",
       "      <th>pluss</th>\n",
       "      <th>magasin</th>\n",
       "      <th>sortrondelag</th>\n",
       "      <th>fotball</th>\n",
       "      <th>...</th>\n",
       "      <th>innsyn</th>\n",
       "      <th>rockamiddag</th>\n",
       "      <th>anmeldt</th>\n",
       "      <th>snakkut</th>\n",
       "      <th>personlig okonomi</th>\n",
       "      <th>omadresseavisen</th>\n",
       "      <th>arrangementer</th>\n",
       "      <th>kvinner</th>\n",
       "      <th>utguiden</th>\n",
       "      <th>aretstronder</th>\n",
       "    </tr>\n",
       "  </thead>\n",
       "  <tbody>\n",
       "    <tr>\n",
       "      <th>32</th>\n",
       "      <td>1</td>\n",
       "      <td>1</td>\n",
       "      <td>0</td>\n",
       "      <td>0</td>\n",
       "      <td>0</td>\n",
       "      <td>0</td>\n",
       "      <td>0</td>\n",
       "      <td>0</td>\n",
       "      <td>0</td>\n",
       "      <td>0</td>\n",
       "      <td>...</td>\n",
       "      <td>0</td>\n",
       "      <td>0</td>\n",
       "      <td>0</td>\n",
       "      <td>0</td>\n",
       "      <td>0</td>\n",
       "      <td>0</td>\n",
       "      <td>0</td>\n",
       "      <td>0</td>\n",
       "      <td>0</td>\n",
       "      <td>0</td>\n",
       "    </tr>\n",
       "    <tr>\n",
       "      <th>42</th>\n",
       "      <td>0</td>\n",
       "      <td>0</td>\n",
       "      <td>1</td>\n",
       "      <td>1</td>\n",
       "      <td>0</td>\n",
       "      <td>0</td>\n",
       "      <td>0</td>\n",
       "      <td>0</td>\n",
       "      <td>0</td>\n",
       "      <td>0</td>\n",
       "      <td>...</td>\n",
       "      <td>0</td>\n",
       "      <td>0</td>\n",
       "      <td>0</td>\n",
       "      <td>0</td>\n",
       "      <td>0</td>\n",
       "      <td>0</td>\n",
       "      <td>0</td>\n",
       "      <td>0</td>\n",
       "      <td>0</td>\n",
       "      <td>0</td>\n",
       "    </tr>\n",
       "    <tr>\n",
       "      <th>50</th>\n",
       "      <td>1</td>\n",
       "      <td>0</td>\n",
       "      <td>0</td>\n",
       "      <td>0</td>\n",
       "      <td>1</td>\n",
       "      <td>0</td>\n",
       "      <td>0</td>\n",
       "      <td>0</td>\n",
       "      <td>0</td>\n",
       "      <td>0</td>\n",
       "      <td>...</td>\n",
       "      <td>0</td>\n",
       "      <td>0</td>\n",
       "      <td>0</td>\n",
       "      <td>0</td>\n",
       "      <td>0</td>\n",
       "      <td>0</td>\n",
       "      <td>0</td>\n",
       "      <td>0</td>\n",
       "      <td>0</td>\n",
       "      <td>0</td>\n",
       "    </tr>\n",
       "    <tr>\n",
       "      <th>159</th>\n",
       "      <td>0</td>\n",
       "      <td>0</td>\n",
       "      <td>1</td>\n",
       "      <td>0</td>\n",
       "      <td>0</td>\n",
       "      <td>1</td>\n",
       "      <td>0</td>\n",
       "      <td>0</td>\n",
       "      <td>0</td>\n",
       "      <td>0</td>\n",
       "      <td>...</td>\n",
       "      <td>0</td>\n",
       "      <td>0</td>\n",
       "      <td>0</td>\n",
       "      <td>0</td>\n",
       "      <td>0</td>\n",
       "      <td>0</td>\n",
       "      <td>0</td>\n",
       "      <td>0</td>\n",
       "      <td>0</td>\n",
       "      <td>0</td>\n",
       "    </tr>\n",
       "    <tr>\n",
       "      <th>160</th>\n",
       "      <td>0</td>\n",
       "      <td>0</td>\n",
       "      <td>0</td>\n",
       "      <td>0</td>\n",
       "      <td>0</td>\n",
       "      <td>0</td>\n",
       "      <td>1</td>\n",
       "      <td>1</td>\n",
       "      <td>0</td>\n",
       "      <td>0</td>\n",
       "      <td>...</td>\n",
       "      <td>0</td>\n",
       "      <td>0</td>\n",
       "      <td>0</td>\n",
       "      <td>0</td>\n",
       "      <td>0</td>\n",
       "      <td>0</td>\n",
       "      <td>0</td>\n",
       "      <td>0</td>\n",
       "      <td>0</td>\n",
       "      <td>0</td>\n",
       "    </tr>\n",
       "  </tbody>\n",
       "</table>\n",
       "<p>5 rows × 82 columns</p>\n",
       "</div>"
      ],
      "text/plain": [
       "     nyheter  innenriks  100sport  sjakk  trondheim  vintersport  pluss  magasin  sortrondelag  fotball  ...  innsyn  rockamiddag  anmeldt  snakkut  personlig okonomi  omadresseavisen  arrangementer  kvinner  utguiden  aretstronder\n",
       "32         1          1         0      0          0            0      0        0             0        0  ...       0            0        0        0                  0                0              0        0         0             0\n",
       "42         0          0         1      1          0            0      0        0             0        0  ...       0            0        0        0                  0                0              0        0         0             0\n",
       "50         1          0         0      0          1            0      0        0             0        0  ...       0            0        0        0                  0                0              0        0         0             0\n",
       "159        0          0         1      0          0            1      0        0             0        0  ...       0            0        0        0                  0                0              0        0         0             0\n",
       "160        0          0         0      0          0            0      1        1             0        0  ...       0            0        0        0                  0                0              0        0         0             0\n",
       "\n",
       "[5 rows x 82 columns]"
      ]
     },
     "execution_count": 70,
     "metadata": {},
     "output_type": "execute_result"
    }
   ],
   "source": [
    "# The article category columns then look like this\n",
    "articles_fc[categories].head()"
   ]
  },
  {
   "cell_type": "markdown",
   "metadata": {},
   "source": [
    "Our category columns are now represented as binary features. The next step is to wrangle our e.g. deviceType feature so that each decade has its own column. We can do this using pandas' get_dummies() function, which works by creating a categorical variable into binary variables."
   ]
  },
  {
   "cell_type": "code",
   "execution_count": 71,
   "metadata": {},
   "outputs": [
    {
     "data": {
      "text/html": [
       "<div>\n",
       "<style scoped>\n",
       "    .dataframe tbody tr th:only-of-type {\n",
       "        vertical-align: middle;\n",
       "    }\n",
       "\n",
       "    .dataframe tbody tr th {\n",
       "        vertical-align: top;\n",
       "    }\n",
       "\n",
       "    .dataframe thead th {\n",
       "        text-align: right;\n",
       "    }\n",
       "</style>\n",
       "<table border=\"1\" class=\"dataframe\">\n",
       "  <thead>\n",
       "    <tr style=\"text-align: right;\">\n",
       "      <th></th>\n",
       "      <th>Desktop</th>\n",
       "      <th>Mobile</th>\n",
       "      <th>Tablet</th>\n",
       "    </tr>\n",
       "  </thead>\n",
       "  <tbody>\n",
       "    <tr>\n",
       "      <th>32</th>\n",
       "      <td>0</td>\n",
       "      <td>1</td>\n",
       "      <td>0</td>\n",
       "    </tr>\n",
       "    <tr>\n",
       "      <th>42</th>\n",
       "      <td>0</td>\n",
       "      <td>1</td>\n",
       "      <td>0</td>\n",
       "    </tr>\n",
       "    <tr>\n",
       "      <th>50</th>\n",
       "      <td>0</td>\n",
       "      <td>0</td>\n",
       "      <td>1</td>\n",
       "    </tr>\n",
       "    <tr>\n",
       "      <th>159</th>\n",
       "      <td>1</td>\n",
       "      <td>0</td>\n",
       "      <td>0</td>\n",
       "    </tr>\n",
       "    <tr>\n",
       "      <th>160</th>\n",
       "      <td>1</td>\n",
       "      <td>0</td>\n",
       "      <td>0</td>\n",
       "    </tr>\n",
       "  </tbody>\n",
       "</table>\n",
       "</div>"
      ],
      "text/plain": [
       "     Desktop  Mobile  Tablet\n",
       "32         0       1       0\n",
       "42         0       1       0\n",
       "50         0       0       1\n",
       "159        1       0       0\n",
       "160        1       0       0"
      ]
     },
     "execution_count": 71,
     "metadata": {},
     "output_type": "execute_result"
    }
   ],
   "source": [
    "article_deviceType = pd.get_dummies(articles_fc['deviceType'])\n",
    "article_deviceType.head()"
   ]
  },
  {
   "cell_type": "code",
   "execution_count": 72,
   "metadata": {},
   "outputs": [
    {
     "data": {
      "text/html": [
       "<div>\n",
       "<style scoped>\n",
       "    .dataframe tbody tr th:only-of-type {\n",
       "        vertical-align: middle;\n",
       "    }\n",
       "\n",
       "    .dataframe tbody tr th {\n",
       "        vertical-align: top;\n",
       "    }\n",
       "\n",
       "    .dataframe thead th {\n",
       "        text-align: right;\n",
       "    }\n",
       "</style>\n",
       "<table border=\"1\" class=\"dataframe\">\n",
       "  <thead>\n",
       "    <tr style=\"text-align: right;\">\n",
       "      <th></th>\n",
       "      <th>nyheter</th>\n",
       "      <th>innenriks</th>\n",
       "      <th>100sport</th>\n",
       "      <th>sjakk</th>\n",
       "      <th>trondheim</th>\n",
       "      <th>vintersport</th>\n",
       "      <th>pluss</th>\n",
       "      <th>magasin</th>\n",
       "      <th>sortrondelag</th>\n",
       "      <th>fotball</th>\n",
       "      <th>...</th>\n",
       "      <th>snakkut</th>\n",
       "      <th>personlig okonomi</th>\n",
       "      <th>omadresseavisen</th>\n",
       "      <th>arrangementer</th>\n",
       "      <th>kvinner</th>\n",
       "      <th>utguiden</th>\n",
       "      <th>aretstronder</th>\n",
       "      <th>Desktop</th>\n",
       "      <th>Mobile</th>\n",
       "      <th>Tablet</th>\n",
       "    </tr>\n",
       "  </thead>\n",
       "  <tbody>\n",
       "    <tr>\n",
       "      <th>32</th>\n",
       "      <td>1</td>\n",
       "      <td>1</td>\n",
       "      <td>0</td>\n",
       "      <td>0</td>\n",
       "      <td>0</td>\n",
       "      <td>0</td>\n",
       "      <td>0</td>\n",
       "      <td>0</td>\n",
       "      <td>0</td>\n",
       "      <td>0</td>\n",
       "      <td>...</td>\n",
       "      <td>0</td>\n",
       "      <td>0</td>\n",
       "      <td>0</td>\n",
       "      <td>0</td>\n",
       "      <td>0</td>\n",
       "      <td>0</td>\n",
       "      <td>0</td>\n",
       "      <td>0</td>\n",
       "      <td>1</td>\n",
       "      <td>0</td>\n",
       "    </tr>\n",
       "    <tr>\n",
       "      <th>42</th>\n",
       "      <td>0</td>\n",
       "      <td>0</td>\n",
       "      <td>1</td>\n",
       "      <td>1</td>\n",
       "      <td>0</td>\n",
       "      <td>0</td>\n",
       "      <td>0</td>\n",
       "      <td>0</td>\n",
       "      <td>0</td>\n",
       "      <td>0</td>\n",
       "      <td>...</td>\n",
       "      <td>0</td>\n",
       "      <td>0</td>\n",
       "      <td>0</td>\n",
       "      <td>0</td>\n",
       "      <td>0</td>\n",
       "      <td>0</td>\n",
       "      <td>0</td>\n",
       "      <td>0</td>\n",
       "      <td>1</td>\n",
       "      <td>0</td>\n",
       "    </tr>\n",
       "    <tr>\n",
       "      <th>50</th>\n",
       "      <td>1</td>\n",
       "      <td>0</td>\n",
       "      <td>0</td>\n",
       "      <td>0</td>\n",
       "      <td>1</td>\n",
       "      <td>0</td>\n",
       "      <td>0</td>\n",
       "      <td>0</td>\n",
       "      <td>0</td>\n",
       "      <td>0</td>\n",
       "      <td>...</td>\n",
       "      <td>0</td>\n",
       "      <td>0</td>\n",
       "      <td>0</td>\n",
       "      <td>0</td>\n",
       "      <td>0</td>\n",
       "      <td>0</td>\n",
       "      <td>0</td>\n",
       "      <td>0</td>\n",
       "      <td>0</td>\n",
       "      <td>1</td>\n",
       "    </tr>\n",
       "    <tr>\n",
       "      <th>159</th>\n",
       "      <td>0</td>\n",
       "      <td>0</td>\n",
       "      <td>1</td>\n",
       "      <td>0</td>\n",
       "      <td>0</td>\n",
       "      <td>1</td>\n",
       "      <td>0</td>\n",
       "      <td>0</td>\n",
       "      <td>0</td>\n",
       "      <td>0</td>\n",
       "      <td>...</td>\n",
       "      <td>0</td>\n",
       "      <td>0</td>\n",
       "      <td>0</td>\n",
       "      <td>0</td>\n",
       "      <td>0</td>\n",
       "      <td>0</td>\n",
       "      <td>0</td>\n",
       "      <td>1</td>\n",
       "      <td>0</td>\n",
       "      <td>0</td>\n",
       "    </tr>\n",
       "    <tr>\n",
       "      <th>160</th>\n",
       "      <td>0</td>\n",
       "      <td>0</td>\n",
       "      <td>0</td>\n",
       "      <td>0</td>\n",
       "      <td>0</td>\n",
       "      <td>0</td>\n",
       "      <td>1</td>\n",
       "      <td>1</td>\n",
       "      <td>0</td>\n",
       "      <td>0</td>\n",
       "      <td>...</td>\n",
       "      <td>0</td>\n",
       "      <td>0</td>\n",
       "      <td>0</td>\n",
       "      <td>0</td>\n",
       "      <td>0</td>\n",
       "      <td>0</td>\n",
       "      <td>0</td>\n",
       "      <td>1</td>\n",
       "      <td>0</td>\n",
       "      <td>0</td>\n",
       "    </tr>\n",
       "  </tbody>\n",
       "</table>\n",
       "<p>5 rows × 85 columns</p>\n",
       "</div>"
      ],
      "text/plain": [
       "     nyheter  innenriks  100sport  sjakk  trondheim  vintersport  pluss  magasin  sortrondelag  fotball  ...  snakkut  personlig okonomi  omadresseavisen  arrangementer  kvinner  utguiden  aretstronder  Desktop  Mobile  Tablet\n",
       "32         1          1         0      0          0            0      0        0             0        0  ...        0                  0                0              0        0         0             0        0       1       0\n",
       "42         0          0         1      1          0            0      0        0             0        0  ...        0                  0                0              0        0         0             0        0       1       0\n",
       "50         1          0         0      0          1            0      0        0             0        0  ...        0                  0                0              0        0         0             0        0       0       1\n",
       "159        0          0         1      0          0            1      0        0             0        0  ...        0                  0                0              0        0         0             0        1       0       0\n",
       "160        0          0         0      0          0            0      1        1             0        0  ...        0                  0                0              0        0         0             0        1       0       0\n",
       "\n",
       "[5 rows x 85 columns]"
      ]
     },
     "execution_count": 72,
     "metadata": {},
     "output_type": "execute_result"
    }
   ],
   "source": [
    "article_features = pd.concat([articles_fc[categories], article_deviceType], axis=1)\n",
    "article_features.head()"
   ]
  },
  {
   "cell_type": "markdown",
   "metadata": {},
   "source": [
    "The article_features dataframe is ready. The next step is to start building our recommender."
   ]
  },
  {
   "cell_type": "markdown",
   "metadata": {},
   "source": [
    "## Example: content-based recommender system\n",
    "\n",
    "This shows a simple item-item recommender using a similarity metric called cosine similarity."
   ]
  },
  {
   "cell_type": "code",
   "execution_count": 30,
   "metadata": {},
   "outputs": [
    {
     "name": "stdout",
     "output_type": "stream",
     "text": [
      "Dimension of our article features cosine simlarity matrix: (12838, 12838)\n"
     ]
    }
   ],
   "source": [
    "from sklearn.metrics.pairwise import cosine_similarity\n",
    "\n",
    "cosine_sim = cosine_similarity(article_features, article_features)\n",
    "print(f'Dimension of our article features cosine simlarity matrix: {cosine_sim.shape}')"
   ]
  },
  {
   "cell_type": "code",
   "execution_count": 31,
   "metadata": {},
   "outputs": [],
   "source": [
    "from fuzzywuzzy import process\n",
    "\n",
    "def article_finder(title):\n",
    "    all_titles = articles_fc['title'].tolist()\n",
    "    closest_match = process.extractOne(title, all_titles)\n",
    "    return closest_match[0]"
   ]
  },
  {
   "cell_type": "code",
   "execution_count": 32,
   "metadata": {},
   "outputs": [
    {
     "data": {
      "text/plain": [
       "'Én av tre nordmenn vil trene mer i 2017'"
      ]
     },
     "execution_count": 32,
     "metadata": {},
     "output_type": "execute_result"
    }
   ],
   "source": [
    "title = article_finder('trene mer i 2017')\n",
    "title"
   ]
  },
  {
   "cell_type": "code",
   "execution_count": 33,
   "metadata": {},
   "outputs": [
    {
     "data": {
      "text/plain": [
       "32"
      ]
     },
     "execution_count": 33,
     "metadata": {},
     "output_type": "execute_result"
    }
   ],
   "source": [
    "article_idx = dict(zip(articles_fc['title'], list(articles_fc.index)))\n",
    "idx = article_idx[title]\n",
    "idx"
   ]
  },
  {
   "cell_type": "code",
   "execution_count": 34,
   "metadata": {},
   "outputs": [],
   "source": [
    "n_recommendations = 10\n",
    "sim_scores = list(enumerate(cosine_sim[idx]))\n",
    "sim_scores = sorted(sim_scores, key=lambda x: x[1], reverse=True)\n",
    "sim_scores = sim_scores[1:(n_recommendations + 1)]\n",
    "similar_articles = [i[0] for i in sim_scores]"
   ]
  },
  {
   "cell_type": "code",
   "execution_count": 35,
   "metadata": {},
   "outputs": [
    {
     "name": "stdout",
     "output_type": "stream",
     "text": [
      "Since you read the article Én av tre nordmenn vil trene mer i 2017, we think you would like: \n"
     ]
    },
    {
     "data": {
      "text/plain": [
       "9306      Hva gjør restaurantene Frati og Bari i en romantisk amerikansk julefilm?\n",
       "15904                                      Her er dama som jubler for sprengkulden\n",
       "17106                                                   Iiiiiiiiiskaldt nyttårsbad\n",
       "22336                            Her eksploderer fyrverkeriet to meter over bakken\n",
       "25786                                                        Rystet over rapporten\n",
       "29252    «Det ser ut til å bli et kult bygg. Området er ikke særlig fint fra før.»\n",
       "29277                                               Vurderer å flytte fra Midtbyen\n",
       "30367                                         Strør og salter alle kommunale veier\n",
       "30959                                         Her er Adresseavisens nye redaktører\n",
       "31820                                                     - Vi hørte et høyt smell\n",
       "Name: title, dtype: object"
      ]
     },
     "execution_count": 35,
     "metadata": {},
     "output_type": "execute_result"
    }
   ],
   "source": [
    "pd.set_option('display.width', 1000)\n",
    "pd.set_option('display.max_colwidth', 100)\n",
    "print(f'Since you read the article {title}, we think you would like: ')\n",
    "articles_fc['title'].iloc[similar_articles]"
   ]
  },
  {
   "cell_type": "markdown",
   "metadata": {},
   "source": [
    "## Example: Collaborative filtering recommender system\n",
    "\n",
    "This shows a simple item-based Collaborative Filtering (CF) recommender using Alternating Least Squares."
   ]
  },
  {
   "cell_type": "code",
   "execution_count": 76,
   "metadata": {},
   "outputs": [
    {
     "data": {
      "text/plain": [
       "array([[1., 1., 1., ..., 0., 0., 0.],\n",
       "       [0., 0., 1., ..., 0., 0., 0.],\n",
       "       [0., 0., 0., ..., 0., 0., 0.],\n",
       "       ...,\n",
       "       [0., 0., 0., ..., 1., 0., 0.],\n",
       "       [0., 0., 1., ..., 0., 1., 1.],\n",
       "       [1., 0., 1., ..., 0., 0., 0.]])"
      ]
     },
     "execution_count": 76,
     "metadata": {},
     "output_type": "execute_result"
    }
   ],
   "source": [
    "dataset = df[~df['documentId'].isnull()]\n",
    "\n",
    "dataset = dataset.drop_duplicates(subset=['userId', 'documentId']).reset_index(drop=True)\n",
    "dataset = dataset.sort_values(by=['userId', 'time'])\n",
    "n_users = dataset['userId'].nunique()\n",
    "n_items = dataset['documentId'].nunique()\n",
    "\n",
    "ratings = np.zeros((n_users, n_items))\n",
    "new_user = dataset['userId'].values[1:] != dataset['userId'].values[:-1]\n",
    "new_user = np.r_[True, new_user]\n",
    "dataset['uid'] = np.cumsum(new_user)\n",
    "item_ids = dataset['documentId'].unique().tolist()\n",
    "new_df = pd.DataFrame({'documentId':item_ids, 'tid':range(1,len(item_ids)+1)})\n",
    "dataset = pd.merge(dataset, new_df, on='documentId', how='outer')\n",
    "df_ext = dataset[['uid', 'tid']]\n",
    "\n",
    "for row in df_ext.itertuples():\n",
    "    ratings[row[1]-1, row[2]-1] = 1.0\n",
    "\n",
    "ratings"
   ]
  },
  {
   "cell_type": "code",
   "execution_count": 77,
   "metadata": {},
   "outputs": [],
   "source": [
    "# Transforming the data\n",
    "from scipy.sparse import csr_matrix\n",
    "\n",
    "def create_matrices(df):\n",
    "    \"\"\"\n",
    "    Generates a sparse matrix from dataframe ratings\n",
    "\n",
    "    Args:\n",
    "        df: pandas dataframe\n",
    "    \n",
    "    Returns:\n",
    "        X: sparse matrix\n",
    "        user_mapper: dict that maps user id's to user indices\n",
    "        user_inv_mapper: dict that maps user indices to user id's\n",
    "        movie_mapper: dict that maps movie id's to movie indices\n",
    "        movie_inv_mapper: dict that maps movie indices to movie id's\n",
    "\n",
    "    \"\"\"\n",
    "    N = df['userId'].nunique()\n",
    "    M = df['documentId'].nunique()\n",
    "\n",
    "    user_mapper = dict(zip(np.unique(df[\"userId\"]), list(range(N))))\n",
    "    article_mapper = dict(zip(np.unique(df[\"documentId\"]), list(range(M))))\n",
    "    \n",
    "    user_inv_mapper = dict(zip(list(range(N)), np.unique(df[\"userId\"])))\n",
    "    article_inv_mapper = dict(zip(list(range(M)), np.unique(df[\"documentId\"])))\n",
    "    \n",
    "    user_index = [user_mapper[i] for i in df['userId']]\n",
    "    article_index = [article_mapper[i] for i in df['documentId']]\n",
    "\n",
    "    # Create implicit feedback, rating\n",
    "    X = csr_matrix((df[\"activeTime\"], (article_index, user_index)), shape=(M, N))\n",
    "    \n",
    "    return X, user_mapper, article_mapper, user_inv_mapper, article_inv_mapper"
   ]
  },
  {
   "cell_type": "code",
   "execution_count": 78,
   "metadata": {},
   "outputs": [],
   "source": [
    "X, user_mapper, article_mapper, user_inv_mapper, article_inv_mapper = create_matrices(dataset)"
   ]
  },
  {
   "cell_type": "code",
   "execution_count": 80,
   "metadata": {},
   "outputs": [],
   "source": [
    "from fuzzywuzzy import process\n",
    "\n",
    "def article_finder(title):\n",
    "    all_titles = articles['title'].tolist()\n",
    "    closest_match = process.extractOne(title, all_titles)\n",
    "    return closest_match[0]\n",
    "\n",
    "article_title_mapper = dict(zip(articles['title'], articles['documentId']))\n",
    "article_title_inv_mapper = dict(zip(articles['documentId'], articles['title']))\n",
    "\n",
    "def get_article_index(title):\n",
    "    fuzzy_title = article_finder(title)\n",
    "    article_id = article_title_mapper[fuzzy_title]\n",
    "    article_idx = article_mapper[article_id]\n",
    "    return article_idx\n",
    "\n",
    "def get_article_title(article_idx): \n",
    "    article_id = article_inv_mapper[article_idx]\n",
    "    title = article_title_inv_mapper[article_id]\n",
    "    return title"
   ]
  },
  {
   "cell_type": "code",
   "execution_count": 81,
   "metadata": {},
   "outputs": [
    {
     "data": {
      "text/plain": [
       "12563"
      ]
     },
     "execution_count": 81,
     "metadata": {},
     "output_type": "execute_result"
    }
   ],
   "source": [
    "# Test\n",
    "get_article_index('Se lesernes nyttårsbilder')"
   ]
  },
  {
   "cell_type": "code",
   "execution_count": 82,
   "metadata": {},
   "outputs": [
    {
     "data": {
      "text/plain": [
       "'Se lesernes nyttårsbilder'"
      ]
     },
     "execution_count": 82,
     "metadata": {},
     "output_type": "execute_result"
    }
   ],
   "source": [
    "# Other way around\n",
    "get_article_title(12563)s"
   ]
  },
  {
   "cell_type": "code",
   "execution_count": 114,
   "metadata": {},
   "outputs": [],
   "source": [
    "# Train test split\n",
    "from sklearn.model_selection import train_test_split\n",
    "train, cros_val = train_test_split(X, test_size = 0.2, random_state = 1)\n",
    "train, test = train_test_split(train, test_size = 0.25, random_state = 1)"
   ]
  },
  {
   "cell_type": "code",
   "execution_count": 115,
   "metadata": {},
   "outputs": [
    {
     "name": "stdout",
     "output_type": "stream",
     "text": [
      "Splitted dataset into train set, cross validation set and test set\n",
      "Train shape: (12206, 1000)\n",
      "Test shape: (4069, 1000)\n",
      "cros_val shape: (4069, 1000)\n"
     ]
    }
   ],
   "source": [
    "print('Splitted dataset into train set, cross validation set and test set')\n",
    "print('Train shape:', train.shape)\n",
    "print('Test shape:', test.shape)\n",
    "print('cros_val shape:',cros_val.shape)"
   ]
  },
  {
   "cell_type": "code",
   "execution_count": 127,
   "metadata": {},
   "outputs": [],
   "source": [
    "# Replace NaN values with 0.0\n",
    "train.data[np.isnan(train.data)] = 0.0\n",
    "train.data[np.isinf(train.data)] = 0.0"
   ]
  },
  {
   "cell_type": "code",
   "execution_count": 179,
   "metadata": {},
   "outputs": [
    {
     "data": {
      "text/html": [
       "<div>\n",
       "<style scoped>\n",
       "    .dataframe tbody tr th:only-of-type {\n",
       "        vertical-align: middle;\n",
       "    }\n",
       "\n",
       "    .dataframe tbody tr th {\n",
       "        vertical-align: top;\n",
       "    }\n",
       "\n",
       "    .dataframe thead th {\n",
       "        text-align: right;\n",
       "    }\n",
       "</style>\n",
       "<table border=\"1\" class=\"dataframe\">\n",
       "  <thead>\n",
       "    <tr style=\"text-align: right;\">\n",
       "      <th></th>\n",
       "      <th>Article</th>\n",
       "      <th>User</th>\n",
       "      <th>Rating</th>\n",
       "    </tr>\n",
       "  </thead>\n",
       "  <tbody>\n",
       "    <tr>\n",
       "      <th>0</th>\n",
       "      <td>0</td>\n",
       "      <td>465</td>\n",
       "      <td>0.0</td>\n",
       "    </tr>\n",
       "    <tr>\n",
       "      <th>1</th>\n",
       "      <td>1</td>\n",
       "      <td>100</td>\n",
       "      <td>0.0</td>\n",
       "    </tr>\n",
       "    <tr>\n",
       "      <th>2</th>\n",
       "      <td>1</td>\n",
       "      <td>126</td>\n",
       "      <td>20.0</td>\n",
       "    </tr>\n",
       "    <tr>\n",
       "      <th>3</th>\n",
       "      <td>1</td>\n",
       "      <td>144</td>\n",
       "      <td>12.0</td>\n",
       "    </tr>\n",
       "    <tr>\n",
       "      <th>4</th>\n",
       "      <td>1</td>\n",
       "      <td>159</td>\n",
       "      <td>0.0</td>\n",
       "    </tr>\n",
       "    <tr>\n",
       "      <th>...</th>\n",
       "      <td>...</td>\n",
       "      <td>...</td>\n",
       "      <td>...</td>\n",
       "    </tr>\n",
       "    <tr>\n",
       "      <th>403255</th>\n",
       "      <td>12205</td>\n",
       "      <td>968</td>\n",
       "      <td>0.0</td>\n",
       "    </tr>\n",
       "    <tr>\n",
       "      <th>403256</th>\n",
       "      <td>12205</td>\n",
       "      <td>980</td>\n",
       "      <td>80.0</td>\n",
       "    </tr>\n",
       "    <tr>\n",
       "      <th>403257</th>\n",
       "      <td>12205</td>\n",
       "      <td>992</td>\n",
       "      <td>105.0</td>\n",
       "    </tr>\n",
       "    <tr>\n",
       "      <th>403258</th>\n",
       "      <td>12205</td>\n",
       "      <td>993</td>\n",
       "      <td>0.0</td>\n",
       "    </tr>\n",
       "    <tr>\n",
       "      <th>403259</th>\n",
       "      <td>12205</td>\n",
       "      <td>997</td>\n",
       "      <td>0.0</td>\n",
       "    </tr>\n",
       "  </tbody>\n",
       "</table>\n",
       "<p>403260 rows × 3 columns</p>\n",
       "</div>"
      ],
      "text/plain": [
       "        Article  User  Rating\n",
       "0             0   465     0.0\n",
       "1             1   100     0.0\n",
       "2             1   126    20.0\n",
       "3             1   144    12.0\n",
       "4             1   159     0.0\n",
       "...         ...   ...     ...\n",
       "403255    12205   968     0.0\n",
       "403256    12205   980    80.0\n",
       "403257    12205   992   105.0\n",
       "403258    12205   993     0.0\n",
       "403259    12205   997     0.0\n",
       "\n",
       "[403260 rows x 3 columns]"
      ]
     },
     "execution_count": 179,
     "metadata": {},
     "output_type": "execute_result"
    }
   ],
   "source": [
    "c = train.tocoo()\n",
    "\n",
    "out = pd.DataFrame({\"Article\": c.row, \"User\": c.col, \"Rating\": c.data})\n",
    "out                                 "
   ]
  },
  {
   "cell_type": "code",
   "execution_count": 180,
   "metadata": {},
   "outputs": [],
   "source": [
    "model = implicit.als.AlternatingLeastSquares()"
   ]
  },
  {
   "cell_type": "code",
   "execution_count": 182,
   "metadata": {},
   "outputs": [
    {
     "name": "stderr",
     "output_type": "stream",
     "text": [
      "100%|██████████| 15/15 [00:17<00:00,  1.19s/it]\n"
     ]
    }
   ],
   "source": [
    "model.fit(train)"
   ]
  },
  {
   "cell_type": "code",
   "execution_count": 183,
   "metadata": {},
   "outputs": [],
   "source": [
    "# Choose random user to run on the test set\n",
    "user_of_interest = 132\n",
    "\n",
    "ids, scores = model.recommend(user_of_interest, test[user_of_interest], N=10, filter_already_liked_items=False)"
   ]
  },
  {
   "cell_type": "code",
   "execution_count": 184,
   "metadata": {},
   "outputs": [
    {
     "data": {
      "text/plain": [
       "array([223, 586,  86, 874, 522, 904, 431, 481, 822, 804], dtype=int32)"
      ]
     },
     "execution_count": 184,
     "metadata": {},
     "output_type": "execute_result"
    }
   ],
   "source": [
    "ids"
   ]
  },
  {
   "cell_type": "code",
   "execution_count": 189,
   "metadata": {},
   "outputs": [
    {
     "data": {
      "text/plain": [
       "<10x1000 sparse matrix of type '<class 'numpy.float64'>'\n",
       "\twith 182 stored elements in Compressed Sparse Row format>"
      ]
     },
     "execution_count": 189,
     "metadata": {},
     "output_type": "execute_result"
    }
   ],
   "source": []
  },
  {
   "cell_type": "code",
   "execution_count": 241,
   "metadata": {},
   "outputs": [
    {
     "name": "stdout",
     "output_type": "stream",
     "text": [
      "Midt i løpet måtte Østberg endre taktikken: – Jeg var forbannet etter i går\n",
      "- Denne galskapen må stoppes\n",
      "Upopulær, men nødvendig politireform\n",
      "«Publikum har endelig oppdaget Kosmorama»\n",
      "Nå kommer «regler» for hvor lenge en sykmelding bør vare (PLUSS)\n",
      "Mobile vanntåkeanlegg redder liv\n",
      "Listhaug i full korskrangel\n",
      "Vanlig norsk mager kost førte til at jeg ble 120 kg. Nå spiser jeg det ekspertene sier er farlig, og har fått et nytt liv\n",
      "Her er superbuss-traseene\n",
      "Unge asylsøkere som forsvinner, er desperate og uten rettssikkerhet\n"
     ]
    }
   ],
   "source": [
    "# Find articles corresponding to mapping\n",
    "c = test[ids].tocoo()\n",
    "out = pd.DataFrame({\"Article\": c.row, \"User\": c.col, \"Rating\": c.data})[\"Article\"].unique()\n",
    "\n",
    "# Test with translating through test set mapping\n",
    "recommended_articles = []\n",
    "for id_ in out:\n",
    "    articles_without_duplicates = articles.drop_duplicates(subset=['documentId'])\n",
    "    value = articles_without_duplicates[articles_without_duplicates[\"documentId\"] == article_inv_mapper[id_]][\"title\"].values[0]\n",
    "    print(value)\n",
    "    recommended_articles.append(value)\n",
    "# # Test without translating through test set mapping\n",
    "# for id_ in ids:\n",
    "#     print(articles[articles[\"documentId\"] == article_inv_mapper[id_]][\"title\"].values[0])"
   ]
  },
  {
   "cell_type": "code",
   "execution_count": 242,
   "metadata": {},
   "outputs": [
    {
     "data": {
      "text/plain": [
       "['Midt i løpet måtte Østberg endre taktikken: – Jeg var forbannet etter i går',\n",
       " '- Denne galskapen må stoppes',\n",
       " 'Upopulær, men nødvendig politireform',\n",
       " '«Publikum har endelig oppdaget Kosmorama»',\n",
       " 'Nå kommer «regler» for hvor lenge en sykmelding bør vare (PLUSS)',\n",
       " 'Mobile vanntåkeanlegg redder liv',\n",
       " 'Listhaug i full korskrangel',\n",
       " 'Vanlig norsk mager kost førte til at jeg ble 120 kg. Nå spiser jeg det ekspertene sier er farlig, og har fått et nytt liv',\n",
       " 'Her er superbuss-traseene',\n",
       " 'Unge asylsøkere som forsvinner, er desperate og uten rettssikkerhet']"
      ]
     },
     "execution_count": 242,
     "metadata": {},
     "output_type": "execute_result"
    }
   ],
   "source": [
    "recommended_articles"
   ]
  },
  {
   "cell_type": "code",
   "execution_count": 243,
   "metadata": {},
   "outputs": [
    {
     "data": {
      "text/html": [
       "<div>\n",
       "<style scoped>\n",
       "    .dataframe tbody tr th:only-of-type {\n",
       "        vertical-align: middle;\n",
       "    }\n",
       "\n",
       "    .dataframe tbody tr th {\n",
       "        vertical-align: top;\n",
       "    }\n",
       "\n",
       "    .dataframe thead th {\n",
       "        text-align: right;\n",
       "    }\n",
       "</style>\n",
       "<table border=\"1\" class=\"dataframe\">\n",
       "  <thead>\n",
       "    <tr style=\"text-align: right;\">\n",
       "      <th></th>\n",
       "      <th>Articles</th>\n",
       "      <th>score</th>\n",
       "      <th>already_clicked</th>\n",
       "    </tr>\n",
       "  </thead>\n",
       "  <tbody>\n",
       "    <tr>\n",
       "      <th>0</th>\n",
       "      <td>Midt i løpet måtte Østberg endre taktikken: – Jeg var forbannet etter i går</td>\n",
       "      <td>1.016206</td>\n",
       "      <td>True</td>\n",
       "    </tr>\n",
       "    <tr>\n",
       "      <th>1</th>\n",
       "      <td>- Denne galskapen må stoppes</td>\n",
       "      <td>1.006686</td>\n",
       "      <td>True</td>\n",
       "    </tr>\n",
       "    <tr>\n",
       "      <th>2</th>\n",
       "      <td>Upopulær, men nødvendig politireform</td>\n",
       "      <td>0.966449</td>\n",
       "      <td>True</td>\n",
       "    </tr>\n",
       "    <tr>\n",
       "      <th>3</th>\n",
       "      <td>«Publikum har endelig oppdaget Kosmorama»</td>\n",
       "      <td>0.938938</td>\n",
       "      <td>True</td>\n",
       "    </tr>\n",
       "    <tr>\n",
       "      <th>4</th>\n",
       "      <td>Nå kommer «regler» for hvor lenge en sykmelding bør vare (PLUSS)</td>\n",
       "      <td>0.938010</td>\n",
       "      <td>True</td>\n",
       "    </tr>\n",
       "    <tr>\n",
       "      <th>5</th>\n",
       "      <td>Mobile vanntåkeanlegg redder liv</td>\n",
       "      <td>0.925497</td>\n",
       "      <td>True</td>\n",
       "    </tr>\n",
       "    <tr>\n",
       "      <th>6</th>\n",
       "      <td>Listhaug i full korskrangel</td>\n",
       "      <td>0.870800</td>\n",
       "      <td>True</td>\n",
       "    </tr>\n",
       "    <tr>\n",
       "      <th>7</th>\n",
       "      <td>Vanlig norsk mager kost førte til at jeg ble 120 kg. Nå spiser jeg det ekspertene sier er farlig...</td>\n",
       "      <td>0.861879</td>\n",
       "      <td>True</td>\n",
       "    </tr>\n",
       "    <tr>\n",
       "      <th>8</th>\n",
       "      <td>Her er superbuss-traseene</td>\n",
       "      <td>0.858692</td>\n",
       "      <td>True</td>\n",
       "    </tr>\n",
       "    <tr>\n",
       "      <th>9</th>\n",
       "      <td>Unge asylsøkere som forsvinner, er desperate og uten rettssikkerhet</td>\n",
       "      <td>0.672720</td>\n",
       "      <td>False</td>\n",
       "    </tr>\n",
       "  </tbody>\n",
       "</table>\n",
       "</div>"
      ],
      "text/plain": [
       "                                                                                              Articles     score  already_clicked\n",
       "0                          Midt i løpet måtte Østberg endre taktikken: – Jeg var forbannet etter i går  1.016206             True\n",
       "1                                                                         - Denne galskapen må stoppes  1.006686             True\n",
       "2                                                                 Upopulær, men nødvendig politireform  0.966449             True\n",
       "3                                                            «Publikum har endelig oppdaget Kosmorama»  0.938938             True\n",
       "4                                     Nå kommer «regler» for hvor lenge en sykmelding bør vare (PLUSS)  0.938010             True\n",
       "5                                                                     Mobile vanntåkeanlegg redder liv  0.925497             True\n",
       "6                                                                          Listhaug i full korskrangel  0.870800             True\n",
       "7  Vanlig norsk mager kost førte til at jeg ble 120 kg. Nå spiser jeg det ekspertene sier er farlig...  0.861879             True\n",
       "8                                                                            Her er superbuss-traseene  0.858692             True\n",
       "9                                  Unge asylsøkere som forsvinner, er desperate og uten rettssikkerhet  0.672720            False"
      ]
     },
     "execution_count": 243,
     "metadata": {},
     "output_type": "execute_result"
    }
   ],
   "source": [
    "pd.DataFrame({\"Articles\": recommended_articles, \"score\": scores, \"already_clicked\": np.in1d(ids, train[user_of_interest].indices)})"
   ]
  },
  {
   "cell_type": "code",
   "execution_count": 259,
   "metadata": {},
   "outputs": [
    {
     "data": {
      "text/plain": [
       "['Midt i løpet måtte Østberg endre taktikken: – Jeg var forbannet etter i går',\n",
       " '- Denne galskapen må stoppes',\n",
       " 'Upopulær, men nødvendig politireform',\n",
       " '«Publikum har endelig oppdaget Kosmorama»',\n",
       " 'Nå kommer «regler» for hvor lenge en sykmelding bør vare (PLUSS)',\n",
       " 'Mobile vanntåkeanlegg redder liv',\n",
       " 'Listhaug i full korskrangel',\n",
       " 'Vanlig norsk mager kost førte til at jeg ble 120 kg. Nå spiser jeg det ekspertene sier er farlig, og har fått et nytt liv',\n",
       " 'Her er superbuss-traseene',\n",
       " 'Unge asylsøkere som forsvinner, er desperate og uten rettssikkerhet']"
      ]
     },
     "execution_count": 259,
     "metadata": {},
     "output_type": "execute_result"
    }
   ],
   "source": [
    "# To see whether the recommendation was any good, we check whether the user actually clicked the recommended article in the test set:\n",
    "c = test.tocoo()\n",
    "check = pd.DataFrame({\"Article\": c.row, \"User\": c.col, \"Rating\": c.data})\n",
    "check[check[\"User\"] == 132][\"Article\"].values\n",
    "\n",
    "actually_clicked = []\n",
    "for id_ in out:\n",
    "    articles_without_duplicates = articles.drop_duplicates(subset=['documentId'])\n",
    "    value = articles_without_duplicates[articles_without_duplicates[\"documentId\"] == article_inv_mapper[id_]][\"title\"].values[0]\n",
    "    # print(value)\n",
    "    actually_clicked.append(value)\n",
    "actually_clicked[:10]"
   ]
  },
  {
   "cell_type": "markdown",
   "metadata": {},
   "source": [
    "## Other code\n",
    "\n",
    "All code below is saved for later and not usable."
   ]
  },
  {
   "cell_type": "code",
   "execution_count": null,
   "metadata": {},
   "outputs": [
    {
     "ename": "IntCastingNaNError",
     "evalue": "Cannot convert non-finite values (NA or inf) to integer",
     "output_type": "error",
     "traceback": [
      "\u001b[0;31m---------------------------------------------------------------------------\u001b[0m",
      "\u001b[0;31mIntCastingNaNError\u001b[0m                        Traceback (most recent call last)",
      "\u001b[1;32m/Users/mariu/dev/school/TDT4215/tdt4215-2022/eda/eda.ipynb Cell 67'\u001b[0m in \u001b[0;36m<cell line: 2>\u001b[0;34m()\u001b[0m\n\u001b[1;32m      <a href='vscode-notebook-cell:/Users/mariu/dev/school/TDT4215/tdt4215-2022/eda/eda.ipynb#ch0000065?line=0'>1</a>\u001b[0m \u001b[39mimport\u001b[39;00m \u001b[39mscipy\u001b[39;00m\u001b[39m.\u001b[39;00m\u001b[39msparse\u001b[39;00m \u001b[39mas\u001b[39;00m \u001b[39msparse\u001b[39;00m\n\u001b[0;32m----> <a href='vscode-notebook-cell:/Users/mariu/dev/school/TDT4215/tdt4215-2022/eda/eda.ipynb#ch0000065?line=1'>2</a>\u001b[0m user_items \u001b[39m=\u001b[39m sparse\u001b[39m.\u001b[39mcsr_matrix((train[\u001b[39m'\u001b[39;49m\u001b[39mactiveTime\u001b[39;49m\u001b[39m'\u001b[39;49m]\u001b[39m.\u001b[39;49mastype(\u001b[39mint\u001b[39;49m),(train[\u001b[39m'\u001b[39m\u001b[39muserId\u001b[39m\u001b[39m'\u001b[39m], train[\u001b[39m'\u001b[39m\u001b[39mdocumentId\u001b[39m\u001b[39m'\u001b[39m])))\n\u001b[1;32m      <a href='vscode-notebook-cell:/Users/mariu/dev/school/TDT4215/tdt4215-2022/eda/eda.ipynb#ch0000065?line=2'>3</a>\u001b[0m item_users \u001b[39m=\u001b[39m sparse\u001b[39m.\u001b[39mcsr_matrix((train[\u001b[39m'\u001b[39m\u001b[39mactiveTime\u001b[39m\u001b[39m'\u001b[39m]\u001b[39m.\u001b[39mastype(\u001b[39mint\u001b[39m),(train[\u001b[39m'\u001b[39m\u001b[39mdocumendId\u001b[39m\u001b[39m'\u001b[39m], train[\u001b[39m'\u001b[39m\u001b[39muserId\u001b[39m\u001b[39m'\u001b[39m])))\n",
      "File \u001b[0;32m~/.local/share/virtualenvs/tdt4215-2022-yADDz_i8/lib/python3.10/site-packages/pandas/core/generic.py:5920\u001b[0m, in \u001b[0;36mNDFrame.astype\u001b[0;34m(self, dtype, copy, errors)\u001b[0m\n\u001b[1;32m   <a href='file:///Users/mariu/.local/share/virtualenvs/tdt4215-2022-yADDz_i8/lib/python3.10/site-packages/pandas/core/generic.py?line=5912'>5913</a>\u001b[0m     results \u001b[39m=\u001b[39m [\n\u001b[1;32m   <a href='file:///Users/mariu/.local/share/virtualenvs/tdt4215-2022-yADDz_i8/lib/python3.10/site-packages/pandas/core/generic.py?line=5913'>5914</a>\u001b[0m         \u001b[39mself\u001b[39m\u001b[39m.\u001b[39miloc[:, i]\u001b[39m.\u001b[39mastype(dtype, copy\u001b[39m=\u001b[39mcopy)\n\u001b[1;32m   <a href='file:///Users/mariu/.local/share/virtualenvs/tdt4215-2022-yADDz_i8/lib/python3.10/site-packages/pandas/core/generic.py?line=5914'>5915</a>\u001b[0m         \u001b[39mfor\u001b[39;00m i \u001b[39min\u001b[39;00m \u001b[39mrange\u001b[39m(\u001b[39mlen\u001b[39m(\u001b[39mself\u001b[39m\u001b[39m.\u001b[39mcolumns))\n\u001b[1;32m   <a href='file:///Users/mariu/.local/share/virtualenvs/tdt4215-2022-yADDz_i8/lib/python3.10/site-packages/pandas/core/generic.py?line=5915'>5916</a>\u001b[0m     ]\n\u001b[1;32m   <a href='file:///Users/mariu/.local/share/virtualenvs/tdt4215-2022-yADDz_i8/lib/python3.10/site-packages/pandas/core/generic.py?line=5917'>5918</a>\u001b[0m \u001b[39melse\u001b[39;00m:\n\u001b[1;32m   <a href='file:///Users/mariu/.local/share/virtualenvs/tdt4215-2022-yADDz_i8/lib/python3.10/site-packages/pandas/core/generic.py?line=5918'>5919</a>\u001b[0m     \u001b[39m# else, only a single dtype is given\u001b[39;00m\n\u001b[0;32m-> <a href='file:///Users/mariu/.local/share/virtualenvs/tdt4215-2022-yADDz_i8/lib/python3.10/site-packages/pandas/core/generic.py?line=5919'>5920</a>\u001b[0m     new_data \u001b[39m=\u001b[39m \u001b[39mself\u001b[39;49m\u001b[39m.\u001b[39;49m_mgr\u001b[39m.\u001b[39;49mastype(dtype\u001b[39m=\u001b[39;49mdtype, copy\u001b[39m=\u001b[39;49mcopy, errors\u001b[39m=\u001b[39;49merrors)\n\u001b[1;32m   <a href='file:///Users/mariu/.local/share/virtualenvs/tdt4215-2022-yADDz_i8/lib/python3.10/site-packages/pandas/core/generic.py?line=5920'>5921</a>\u001b[0m     \u001b[39mreturn\u001b[39;00m \u001b[39mself\u001b[39m\u001b[39m.\u001b[39m_constructor(new_data)\u001b[39m.\u001b[39m__finalize__(\u001b[39mself\u001b[39m, method\u001b[39m=\u001b[39m\u001b[39m\"\u001b[39m\u001b[39mastype\u001b[39m\u001b[39m\"\u001b[39m)\n\u001b[1;32m   <a href='file:///Users/mariu/.local/share/virtualenvs/tdt4215-2022-yADDz_i8/lib/python3.10/site-packages/pandas/core/generic.py?line=5922'>5923</a>\u001b[0m \u001b[39m# GH 33113: handle empty frame or series\u001b[39;00m\n",
      "File \u001b[0;32m~/.local/share/virtualenvs/tdt4215-2022-yADDz_i8/lib/python3.10/site-packages/pandas/core/internals/managers.py:419\u001b[0m, in \u001b[0;36mBaseBlockManager.astype\u001b[0;34m(self, dtype, copy, errors)\u001b[0m\n\u001b[1;32m    <a href='file:///Users/mariu/.local/share/virtualenvs/tdt4215-2022-yADDz_i8/lib/python3.10/site-packages/pandas/core/internals/managers.py?line=417'>418</a>\u001b[0m \u001b[39mdef\u001b[39;00m \u001b[39mastype\u001b[39m(\u001b[39mself\u001b[39m: T, dtype, copy: \u001b[39mbool\u001b[39m \u001b[39m=\u001b[39m \u001b[39mFalse\u001b[39;00m, errors: \u001b[39mstr\u001b[39m \u001b[39m=\u001b[39m \u001b[39m\"\u001b[39m\u001b[39mraise\u001b[39m\u001b[39m\"\u001b[39m) \u001b[39m-\u001b[39m\u001b[39m>\u001b[39m T:\n\u001b[0;32m--> <a href='file:///Users/mariu/.local/share/virtualenvs/tdt4215-2022-yADDz_i8/lib/python3.10/site-packages/pandas/core/internals/managers.py?line=418'>419</a>\u001b[0m     \u001b[39mreturn\u001b[39;00m \u001b[39mself\u001b[39;49m\u001b[39m.\u001b[39;49mapply(\u001b[39m\"\u001b[39;49m\u001b[39mastype\u001b[39;49m\u001b[39m\"\u001b[39;49m, dtype\u001b[39m=\u001b[39;49mdtype, copy\u001b[39m=\u001b[39;49mcopy, errors\u001b[39m=\u001b[39;49merrors)\n",
      "File \u001b[0;32m~/.local/share/virtualenvs/tdt4215-2022-yADDz_i8/lib/python3.10/site-packages/pandas/core/internals/managers.py:304\u001b[0m, in \u001b[0;36mBaseBlockManager.apply\u001b[0;34m(self, f, align_keys, ignore_failures, **kwargs)\u001b[0m\n\u001b[1;32m    <a href='file:///Users/mariu/.local/share/virtualenvs/tdt4215-2022-yADDz_i8/lib/python3.10/site-packages/pandas/core/internals/managers.py?line=301'>302</a>\u001b[0m         applied \u001b[39m=\u001b[39m b\u001b[39m.\u001b[39mapply(f, \u001b[39m*\u001b[39m\u001b[39m*\u001b[39mkwargs)\n\u001b[1;32m    <a href='file:///Users/mariu/.local/share/virtualenvs/tdt4215-2022-yADDz_i8/lib/python3.10/site-packages/pandas/core/internals/managers.py?line=302'>303</a>\u001b[0m     \u001b[39melse\u001b[39;00m:\n\u001b[0;32m--> <a href='file:///Users/mariu/.local/share/virtualenvs/tdt4215-2022-yADDz_i8/lib/python3.10/site-packages/pandas/core/internals/managers.py?line=303'>304</a>\u001b[0m         applied \u001b[39m=\u001b[39m \u001b[39mgetattr\u001b[39;49m(b, f)(\u001b[39m*\u001b[39;49m\u001b[39m*\u001b[39;49mkwargs)\n\u001b[1;32m    <a href='file:///Users/mariu/.local/share/virtualenvs/tdt4215-2022-yADDz_i8/lib/python3.10/site-packages/pandas/core/internals/managers.py?line=304'>305</a>\u001b[0m \u001b[39mexcept\u001b[39;00m (\u001b[39mTypeError\u001b[39;00m, \u001b[39mNotImplementedError\u001b[39;00m):\n\u001b[1;32m    <a href='file:///Users/mariu/.local/share/virtualenvs/tdt4215-2022-yADDz_i8/lib/python3.10/site-packages/pandas/core/internals/managers.py?line=305'>306</a>\u001b[0m     \u001b[39mif\u001b[39;00m \u001b[39mnot\u001b[39;00m ignore_failures:\n",
      "File \u001b[0;32m~/.local/share/virtualenvs/tdt4215-2022-yADDz_i8/lib/python3.10/site-packages/pandas/core/internals/blocks.py:580\u001b[0m, in \u001b[0;36mBlock.astype\u001b[0;34m(self, dtype, copy, errors)\u001b[0m\n\u001b[1;32m    <a href='file:///Users/mariu/.local/share/virtualenvs/tdt4215-2022-yADDz_i8/lib/python3.10/site-packages/pandas/core/internals/blocks.py?line=561'>562</a>\u001b[0m \u001b[39m\"\"\"\u001b[39;00m\n\u001b[1;32m    <a href='file:///Users/mariu/.local/share/virtualenvs/tdt4215-2022-yADDz_i8/lib/python3.10/site-packages/pandas/core/internals/blocks.py?line=562'>563</a>\u001b[0m \u001b[39mCoerce to the new dtype.\u001b[39;00m\n\u001b[1;32m    <a href='file:///Users/mariu/.local/share/virtualenvs/tdt4215-2022-yADDz_i8/lib/python3.10/site-packages/pandas/core/internals/blocks.py?line=563'>564</a>\u001b[0m \n\u001b[0;32m   (...)\u001b[0m\n\u001b[1;32m    <a href='file:///Users/mariu/.local/share/virtualenvs/tdt4215-2022-yADDz_i8/lib/python3.10/site-packages/pandas/core/internals/blocks.py?line=575'>576</a>\u001b[0m \u001b[39mBlock\u001b[39;00m\n\u001b[1;32m    <a href='file:///Users/mariu/.local/share/virtualenvs/tdt4215-2022-yADDz_i8/lib/python3.10/site-packages/pandas/core/internals/blocks.py?line=576'>577</a>\u001b[0m \u001b[39m\"\"\"\u001b[39;00m\n\u001b[1;32m    <a href='file:///Users/mariu/.local/share/virtualenvs/tdt4215-2022-yADDz_i8/lib/python3.10/site-packages/pandas/core/internals/blocks.py?line=577'>578</a>\u001b[0m values \u001b[39m=\u001b[39m \u001b[39mself\u001b[39m\u001b[39m.\u001b[39mvalues\n\u001b[0;32m--> <a href='file:///Users/mariu/.local/share/virtualenvs/tdt4215-2022-yADDz_i8/lib/python3.10/site-packages/pandas/core/internals/blocks.py?line=579'>580</a>\u001b[0m new_values \u001b[39m=\u001b[39m astype_array_safe(values, dtype, copy\u001b[39m=\u001b[39;49mcopy, errors\u001b[39m=\u001b[39;49merrors)\n\u001b[1;32m    <a href='file:///Users/mariu/.local/share/virtualenvs/tdt4215-2022-yADDz_i8/lib/python3.10/site-packages/pandas/core/internals/blocks.py?line=581'>582</a>\u001b[0m new_values \u001b[39m=\u001b[39m maybe_coerce_values(new_values)\n\u001b[1;32m    <a href='file:///Users/mariu/.local/share/virtualenvs/tdt4215-2022-yADDz_i8/lib/python3.10/site-packages/pandas/core/internals/blocks.py?line=582'>583</a>\u001b[0m newb \u001b[39m=\u001b[39m \u001b[39mself\u001b[39m\u001b[39m.\u001b[39mmake_block(new_values)\n",
      "File \u001b[0;32m~/.local/share/virtualenvs/tdt4215-2022-yADDz_i8/lib/python3.10/site-packages/pandas/core/dtypes/cast.py:1292\u001b[0m, in \u001b[0;36mastype_array_safe\u001b[0;34m(values, dtype, copy, errors)\u001b[0m\n\u001b[1;32m   <a href='file:///Users/mariu/.local/share/virtualenvs/tdt4215-2022-yADDz_i8/lib/python3.10/site-packages/pandas/core/dtypes/cast.py?line=1288'>1289</a>\u001b[0m     dtype \u001b[39m=\u001b[39m dtype\u001b[39m.\u001b[39mnumpy_dtype\n\u001b[1;32m   <a href='file:///Users/mariu/.local/share/virtualenvs/tdt4215-2022-yADDz_i8/lib/python3.10/site-packages/pandas/core/dtypes/cast.py?line=1290'>1291</a>\u001b[0m \u001b[39mtry\u001b[39;00m:\n\u001b[0;32m-> <a href='file:///Users/mariu/.local/share/virtualenvs/tdt4215-2022-yADDz_i8/lib/python3.10/site-packages/pandas/core/dtypes/cast.py?line=1291'>1292</a>\u001b[0m     new_values \u001b[39m=\u001b[39m astype_array(values, dtype, copy\u001b[39m=\u001b[39;49mcopy)\n\u001b[1;32m   <a href='file:///Users/mariu/.local/share/virtualenvs/tdt4215-2022-yADDz_i8/lib/python3.10/site-packages/pandas/core/dtypes/cast.py?line=1292'>1293</a>\u001b[0m \u001b[39mexcept\u001b[39;00m (\u001b[39mValueError\u001b[39;00m, \u001b[39mTypeError\u001b[39;00m):\n\u001b[1;32m   <a href='file:///Users/mariu/.local/share/virtualenvs/tdt4215-2022-yADDz_i8/lib/python3.10/site-packages/pandas/core/dtypes/cast.py?line=1293'>1294</a>\u001b[0m     \u001b[39m# e.g. astype_nansafe can fail on object-dtype of strings\u001b[39;00m\n\u001b[1;32m   <a href='file:///Users/mariu/.local/share/virtualenvs/tdt4215-2022-yADDz_i8/lib/python3.10/site-packages/pandas/core/dtypes/cast.py?line=1294'>1295</a>\u001b[0m     \u001b[39m#  trying to convert to float\u001b[39;00m\n\u001b[1;32m   <a href='file:///Users/mariu/.local/share/virtualenvs/tdt4215-2022-yADDz_i8/lib/python3.10/site-packages/pandas/core/dtypes/cast.py?line=1295'>1296</a>\u001b[0m     \u001b[39mif\u001b[39;00m errors \u001b[39m==\u001b[39m \u001b[39m\"\u001b[39m\u001b[39mignore\u001b[39m\u001b[39m\"\u001b[39m:\n",
      "File \u001b[0;32m~/.local/share/virtualenvs/tdt4215-2022-yADDz_i8/lib/python3.10/site-packages/pandas/core/dtypes/cast.py:1237\u001b[0m, in \u001b[0;36mastype_array\u001b[0;34m(values, dtype, copy)\u001b[0m\n\u001b[1;32m   <a href='file:///Users/mariu/.local/share/virtualenvs/tdt4215-2022-yADDz_i8/lib/python3.10/site-packages/pandas/core/dtypes/cast.py?line=1233'>1234</a>\u001b[0m     values \u001b[39m=\u001b[39m values\u001b[39m.\u001b[39mastype(dtype, copy\u001b[39m=\u001b[39mcopy)\n\u001b[1;32m   <a href='file:///Users/mariu/.local/share/virtualenvs/tdt4215-2022-yADDz_i8/lib/python3.10/site-packages/pandas/core/dtypes/cast.py?line=1235'>1236</a>\u001b[0m \u001b[39melse\u001b[39;00m:\n\u001b[0;32m-> <a href='file:///Users/mariu/.local/share/virtualenvs/tdt4215-2022-yADDz_i8/lib/python3.10/site-packages/pandas/core/dtypes/cast.py?line=1236'>1237</a>\u001b[0m     values \u001b[39m=\u001b[39m astype_nansafe(values, dtype, copy\u001b[39m=\u001b[39;49mcopy)\n\u001b[1;32m   <a href='file:///Users/mariu/.local/share/virtualenvs/tdt4215-2022-yADDz_i8/lib/python3.10/site-packages/pandas/core/dtypes/cast.py?line=1238'>1239</a>\u001b[0m \u001b[39m# in pandas we don't store numpy str dtypes, so convert to object\u001b[39;00m\n\u001b[1;32m   <a href='file:///Users/mariu/.local/share/virtualenvs/tdt4215-2022-yADDz_i8/lib/python3.10/site-packages/pandas/core/dtypes/cast.py?line=1239'>1240</a>\u001b[0m \u001b[39mif\u001b[39;00m \u001b[39misinstance\u001b[39m(dtype, np\u001b[39m.\u001b[39mdtype) \u001b[39mand\u001b[39;00m \u001b[39missubclass\u001b[39m(values\u001b[39m.\u001b[39mdtype\u001b[39m.\u001b[39mtype, \u001b[39mstr\u001b[39m):\n",
      "File \u001b[0;32m~/.local/share/virtualenvs/tdt4215-2022-yADDz_i8/lib/python3.10/site-packages/pandas/core/dtypes/cast.py:1148\u001b[0m, in \u001b[0;36mastype_nansafe\u001b[0;34m(arr, dtype, copy, skipna)\u001b[0m\n\u001b[1;32m   <a href='file:///Users/mariu/.local/share/virtualenvs/tdt4215-2022-yADDz_i8/lib/python3.10/site-packages/pandas/core/dtypes/cast.py?line=1144'>1145</a>\u001b[0m     \u001b[39mraise\u001b[39;00m \u001b[39mTypeError\u001b[39;00m(\u001b[39mf\u001b[39m\u001b[39m\"\u001b[39m\u001b[39mcannot astype a timedelta from [\u001b[39m\u001b[39m{\u001b[39;00marr\u001b[39m.\u001b[39mdtype\u001b[39m}\u001b[39;00m\u001b[39m] to [\u001b[39m\u001b[39m{\u001b[39;00mdtype\u001b[39m}\u001b[39;00m\u001b[39m]\u001b[39m\u001b[39m\"\u001b[39m)\n\u001b[1;32m   <a href='file:///Users/mariu/.local/share/virtualenvs/tdt4215-2022-yADDz_i8/lib/python3.10/site-packages/pandas/core/dtypes/cast.py?line=1146'>1147</a>\u001b[0m \u001b[39melif\u001b[39;00m np\u001b[39m.\u001b[39missubdtype(arr\u001b[39m.\u001b[39mdtype, np\u001b[39m.\u001b[39mfloating) \u001b[39mand\u001b[39;00m np\u001b[39m.\u001b[39missubdtype(dtype, np\u001b[39m.\u001b[39minteger):\n\u001b[0;32m-> <a href='file:///Users/mariu/.local/share/virtualenvs/tdt4215-2022-yADDz_i8/lib/python3.10/site-packages/pandas/core/dtypes/cast.py?line=1147'>1148</a>\u001b[0m     \u001b[39mreturn\u001b[39;00m astype_float_to_int_nansafe(arr, dtype, copy)\n\u001b[1;32m   <a href='file:///Users/mariu/.local/share/virtualenvs/tdt4215-2022-yADDz_i8/lib/python3.10/site-packages/pandas/core/dtypes/cast.py?line=1149'>1150</a>\u001b[0m \u001b[39melif\u001b[39;00m is_object_dtype(arr\u001b[39m.\u001b[39mdtype):\n\u001b[1;32m   <a href='file:///Users/mariu/.local/share/virtualenvs/tdt4215-2022-yADDz_i8/lib/python3.10/site-packages/pandas/core/dtypes/cast.py?line=1150'>1151</a>\u001b[0m \n\u001b[1;32m   <a href='file:///Users/mariu/.local/share/virtualenvs/tdt4215-2022-yADDz_i8/lib/python3.10/site-packages/pandas/core/dtypes/cast.py?line=1151'>1152</a>\u001b[0m     \u001b[39m# work around NumPy brokenness, #1987\u001b[39;00m\n\u001b[1;32m   <a href='file:///Users/mariu/.local/share/virtualenvs/tdt4215-2022-yADDz_i8/lib/python3.10/site-packages/pandas/core/dtypes/cast.py?line=1152'>1153</a>\u001b[0m     \u001b[39mif\u001b[39;00m np\u001b[39m.\u001b[39missubdtype(dtype\u001b[39m.\u001b[39mtype, np\u001b[39m.\u001b[39minteger):\n",
      "File \u001b[0;32m~/.local/share/virtualenvs/tdt4215-2022-yADDz_i8/lib/python3.10/site-packages/pandas/core/dtypes/cast.py:1193\u001b[0m, in \u001b[0;36mastype_float_to_int_nansafe\u001b[0;34m(values, dtype, copy)\u001b[0m\n\u001b[1;32m   <a href='file:///Users/mariu/.local/share/virtualenvs/tdt4215-2022-yADDz_i8/lib/python3.10/site-packages/pandas/core/dtypes/cast.py?line=1188'>1189</a>\u001b[0m \u001b[39m\"\"\"\u001b[39;00m\n\u001b[1;32m   <a href='file:///Users/mariu/.local/share/virtualenvs/tdt4215-2022-yADDz_i8/lib/python3.10/site-packages/pandas/core/dtypes/cast.py?line=1189'>1190</a>\u001b[0m \u001b[39mastype with a check preventing converting NaN to an meaningless integer value.\u001b[39;00m\n\u001b[1;32m   <a href='file:///Users/mariu/.local/share/virtualenvs/tdt4215-2022-yADDz_i8/lib/python3.10/site-packages/pandas/core/dtypes/cast.py?line=1190'>1191</a>\u001b[0m \u001b[39m\"\"\"\u001b[39;00m\n\u001b[1;32m   <a href='file:///Users/mariu/.local/share/virtualenvs/tdt4215-2022-yADDz_i8/lib/python3.10/site-packages/pandas/core/dtypes/cast.py?line=1191'>1192</a>\u001b[0m \u001b[39mif\u001b[39;00m \u001b[39mnot\u001b[39;00m np\u001b[39m.\u001b[39misfinite(values)\u001b[39m.\u001b[39mall():\n\u001b[0;32m-> <a href='file:///Users/mariu/.local/share/virtualenvs/tdt4215-2022-yADDz_i8/lib/python3.10/site-packages/pandas/core/dtypes/cast.py?line=1192'>1193</a>\u001b[0m     \u001b[39mraise\u001b[39;00m IntCastingNaNError(\n\u001b[1;32m   <a href='file:///Users/mariu/.local/share/virtualenvs/tdt4215-2022-yADDz_i8/lib/python3.10/site-packages/pandas/core/dtypes/cast.py?line=1193'>1194</a>\u001b[0m         \u001b[39m\"\u001b[39m\u001b[39mCannot convert non-finite values (NA or inf) to integer\u001b[39m\u001b[39m\"\u001b[39m\n\u001b[1;32m   <a href='file:///Users/mariu/.local/share/virtualenvs/tdt4215-2022-yADDz_i8/lib/python3.10/site-packages/pandas/core/dtypes/cast.py?line=1194'>1195</a>\u001b[0m     )\n\u001b[1;32m   <a href='file:///Users/mariu/.local/share/virtualenvs/tdt4215-2022-yADDz_i8/lib/python3.10/site-packages/pandas/core/dtypes/cast.py?line=1195'>1196</a>\u001b[0m \u001b[39mreturn\u001b[39;00m values\u001b[39m.\u001b[39mastype(dtype, copy\u001b[39m=\u001b[39mcopy)\n",
      "\u001b[0;31mIntCastingNaNError\u001b[0m: Cannot convert non-finite values (NA or inf) to integer"
     ]
    }
   ],
   "source": [
    "import scipy.sparse as sparse\n",
    "user_items = sparse.csr_matrix((train['activeTime'].astype(int),(train['userId'], train['documentId'])))\n",
    "item_users = sparse.csr_matrix((train['activeTime'].astype(int),(train['documendId'], train['userId'])))"
   ]
  },
  {
   "cell_type": "code",
   "execution_count": null,
   "metadata": {},
   "outputs": [],
   "source": [
    "# Function to impute numerical activeTime on empty values based on categorical column which can be e.g. category, publishtime, etc.\n",
    "def impute_numerical(categorical_column, numerical_column):\n",
    "    frames = []\n",
    "    # df['categories'] = df['category'].apply(lambda x: x.split(\"|\"))\n",
    "    for i in list(set(df[categorical_column])):\n",
    "        df_category = df[df[categorical_column] == i]\n",
    "        if len(df_category) > 1:    \n",
    "            df_category[numerical_column].fillna(df_category[numerical_column].mean(),inplace = True)        \n",
    "        else:\n",
    "            df_category[numerical_column].fillna(df[numerical_column].mean(),inplace = True)\n",
    "        frames.append(df_category)    \n",
    "        final_df = pd.concat(frames)\n",
    "    return final_df\n"
   ]
  },
  {
   "cell_type": "code",
   "execution_count": null,
   "metadata": {},
   "outputs": [
    {
     "name": "stdout",
     "output_type": "stream",
     "text": [
      "eventId           0\n",
      "category          0\n",
      "activeTime        3\n",
      "title             0\n",
      "url               0\n",
      "userId            0\n",
      "publishtime    2436\n",
      "time              0\n",
      "documentId        0\n",
      "dtype: int64\n"
     ]
    }
   ],
   "source": [
    "# Try imputing activeTime based on category\n",
    "impute_activeTime  = impute_numerical('category', 'activeTime')\n",
    "print(impute_activeTime.isnull().sum())"
   ]
  }
 ],
 "metadata": {
  "interpreter": {
   "hash": "6368b83f7a2da79a789b9640984f8f43c0326341d0b9d6f99fed754db999a021"
  },
  "kernelspec": {
   "display_name": "Python 3.10.0 ('tdt4215-2022-yADDz_i8')",
   "language": "python",
   "name": "python3"
  },
  "language_info": {
   "codemirror_mode": {
    "name": "ipython",
    "version": 3
   },
   "file_extension": ".py",
   "mimetype": "text/x-python",
   "name": "python",
   "nbconvert_exporter": "python",
   "pygments_lexer": "ipython3",
   "version": "3.10.0"
  },
  "orig_nbformat": 4
 },
 "nbformat": 4,
 "nbformat_minor": 2
}
