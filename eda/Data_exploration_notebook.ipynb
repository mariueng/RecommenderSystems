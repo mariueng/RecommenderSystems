{
 "cells": [
  {
   "cell_type": "code",
   "execution_count": 4,
   "id": "a9e45a4a",
   "metadata": {},
   "outputs": [],
   "source": [
    "'''import os\n",
    "DATA_FOLDER = 'active1000'\n",
    "files = os.listdir(DATA_FOLDER)\n",
    "\n",
    "import json\n",
    "events = []\n",
    "for file in files:\n",
    "    filepath = os.path.join(DATA_FOLDER, file)\n",
    "    for line in open(filepath):\n",
    "        events.append(json.loads(line.strip()))\n",
    "        \n",
    "import pandas as pd\n",
    "data_set = pd.DataFrame.from_dict(events)\n",
    "\n",
    "data_set.to_csv(\"active1000.csv\", index=False)'''"
   ]
  },
  {
   "cell_type": "markdown",
   "id": "5d795a4c",
   "metadata": {},
   "source": [
    "## Data description\n",
    "\n",
    "**eventId**\n",
    "The identifier used to differentiate distinct\n",
    "events from the same user.\n",
    "\n",
    "**category**\n",
    "The category of the news article.\n",
    "\n",
    "**activeTime**\n",
    "The active time on a page in seconds, if known.\n",
    "\n",
    "**title**\n",
    "The title of the article.\n",
    "\n",
    "**url**\n",
    "The URL of the visited page.\n",
    "\n",
    "**userId**\n",
    "The cross-site user identifier which can be used\n",
    "to differentiate devices/browsers, or identify\n",
    "different subscription users by the user id.\n",
    "\n",
    "**publishtime**\n",
    "The publish time of the article.\n",
    "\n",
    "**time**\n",
    "The time of event, measured in Unix time.\n",
    "\n",
    "**documentId**\n",
    "The document id. This will be the same for different\n",
    "URLs that are considered equivalent according to Cxense’s\n",
    "normalization algorithm. E.g., http://www.example.com/,\n",
    "http://www.example.com and http://example.com will all\n",
    "have the same id value."
   ]
  },
  {
   "cell_type": "code",
   "execution_count": 29,
   "id": "dd6c3a3b",
   "metadata": {},
   "outputs": [],
   "source": [
    "data_set = pd.read_csv(\"active1000.csv\")"
   ]
  },
  {
   "cell_type": "code",
   "execution_count": 38,
   "id": "2df47d02",
   "metadata": {},
   "outputs": [
    {
     "data": {
      "text/plain": [
       "eventId        2207608\n",
       "category        609850\n",
       "activeTime     1351878\n",
       "title           788931\n",
       "url            2207608\n",
       "userId         2207608\n",
       "publishtime     728697\n",
       "time           2207608\n",
       "documentId      788931\n",
       "dtype: int64"
      ]
     },
     "execution_count": 38,
     "metadata": {},
     "output_type": "execute_result"
    }
   ],
   "source": [
    "data_set.count()"
   ]
  },
  {
   "cell_type": "code",
   "execution_count": 33,
   "id": "df38a4df",
   "metadata": {},
   "outputs": [
    {
     "data": {
      "text/plain": [
       "79"
      ]
     },
     "execution_count": 33,
     "metadata": {},
     "output_type": "execute_result"
    }
   ],
   "source": [
    "# Unique categories\n",
    "len(data_set.category.unique())"
   ]
  },
  {
   "cell_type": "code",
   "execution_count": 34,
   "id": "dfacc220",
   "metadata": {},
   "outputs": [
    {
     "data": {
      "text/plain": [
       "25984"
      ]
     },
     "execution_count": 34,
     "metadata": {},
     "output_type": "execute_result"
    }
   ],
   "source": [
    "# Unique urls.\n",
    "len(data_set.url.unique())"
   ]
  },
  {
   "cell_type": "code",
   "execution_count": 35,
   "id": "194407ad",
   "metadata": {},
   "outputs": [
    {
     "data": {
      "text/plain": [
       "1000"
      ]
     },
     "execution_count": 35,
     "metadata": {},
     "output_type": "execute_result"
    }
   ],
   "source": [
    "# Unique users\n",
    "len(data_set.userId.unique())"
   ]
  },
  {
   "cell_type": "code",
   "execution_count": 39,
   "id": "7229ac5c",
   "metadata": {},
   "outputs": [
    {
     "data": {
      "text/plain": [
       "20345"
      ]
     },
     "execution_count": 39,
     "metadata": {},
     "output_type": "execute_result"
    }
   ],
   "source": [
    "# Unique documents (some ids correspond to more than 1 url)\n",
    "len(data_set.documentId.unique())"
   ]
  }
 ],
 "metadata": {
  "kernelspec": {
   "display_name": "Python 3 (ipykernel)",
   "language": "python",
   "name": "python3"
  },
  "language_info": {
   "codemirror_mode": {
    "name": "ipython",
    "version": 3
   },
   "file_extension": ".py",
   "mimetype": "text/x-python",
   "name": "python",
   "nbconvert_exporter": "python",
   "pygments_lexer": "ipython3",
   "version": "3.9.7"
  }
 },
 "nbformat": 4,
 "nbformat_minor": 5
}
